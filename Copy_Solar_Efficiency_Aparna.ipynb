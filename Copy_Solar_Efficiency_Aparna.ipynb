{
  "cells": [
    {
      "cell_type": "code",
      "execution_count": 12,
      "metadata": {
        "id": "ZLaza1HhS-JK"
      },
      "outputs": [],
      "source": [
        "import pandas as pd\n",
        "import numpy as np\n",
        "import matplotlib.pyplot as plt\n",
        "import seaborn as sns"
      ]
    },
    {
      "cell_type": "code",
      "execution_count": 13,
      "metadata": {
        "id": "GccQ5XlMUjPV"
      },
      "outputs": [],
      "source": [
        "data = pd.read_csv('train.csv')"
      ]
    },
    {
      "cell_type": "code",
      "execution_count": 14,
      "metadata": {
        "colab": {
          "base_uri": "https://localhost:8080/",
          "height": 615
        },
        "id": "WH-Z0rTRUzaU",
        "outputId": "63b036f2-377e-4157-c3ff-30b443bda832"
      },
      "outputs": [
        {
          "output_type": "execute_result",
          "data": {
            "text/plain": [
              "             Timestamp  Temperature  Dew Point  Surface Albedo  Pressure  \\\n",
              "0  2019-01-01 00:00:00         12.5        6.9            0.21      1005   \n",
              "1  2019-01-01 00:10:00         12.3        6.9            0.21      1005   \n",
              "2  2019-01-01 00:20:00         12.1        6.9            0.21      1005   \n",
              "3  2019-01-01 00:30:00         12.0        6.9            0.21      1005   \n",
              "4  2019-01-01 00:40:00         11.8        6.9            0.21      1005   \n",
              "5  2019-01-01 00:50:00         11.6        6.9            0.21      1005   \n",
              "6  2019-01-01 01:00:00         11.4        6.9            0.21      1005   \n",
              "7  2019-01-01 01:10:00         11.3        6.9            0.21      1005   \n",
              "8  2019-01-01 01:20:00         11.1        6.9            0.21      1005   \n",
              "9  2019-01-01 01:30:00         10.9        6.9            0.21      1004   \n",
              "\n",
              "   Wind Direction  Wind Speed  Clearsky DHI  Clearsky DNI  Clearsky GHI  \\\n",
              "0           121.0         1.0           0.0           0.0           0.0   \n",
              "1           122.0         1.0           0.0           0.0           0.0   \n",
              "2           124.0         1.0           0.0           0.0           0.0   \n",
              "3           125.0         1.0           0.0           0.0           0.0   \n",
              "4           126.0         1.0           0.0           0.0           0.0   \n",
              "5           128.0         1.0           0.0           0.0           0.0   \n",
              "6           129.0         1.0           0.0           0.0           0.0   \n",
              "7           131.0         1.0           0.0           0.0           0.0   \n",
              "8           133.0         1.0           0.0           0.0           0.0   \n",
              "9           135.0         1.1           0.0           0.0           0.0   \n",
              "\n",
              "   Fill Flag  Ozone  Cloud Type  Solar Zenith Angle  Precipitable Water  \\\n",
              "0        0.0  0.258         1.0              173.92                 1.4   \n",
              "1        0.0  0.258         1.0              171.79                 1.3   \n",
              "2        0.0  0.258         1.0              169.59                 1.3   \n",
              "3        0.0  0.258         1.0              167.37                 1.3   \n",
              "4        0.0  0.258         1.0              165.13                 1.3   \n",
              "5        0.0  0.258         1.0              162.89                 1.3   \n",
              "6        0.0  0.258         1.0              160.63                 1.3   \n",
              "7        0.0  0.258         1.0              158.38                 1.3   \n",
              "8        0.0  0.258         1.0              156.12                 1.3   \n",
              "9        0.0  0.258         1.0              153.87                 1.3   \n",
              "\n",
              "   Relative Humidity  \n",
              "0              68.82  \n",
              "1              69.73  \n",
              "2              70.65  \n",
              "3              71.11  \n",
              "4              71.91  \n",
              "5              72.87  \n",
              "6              73.83  \n",
              "7              74.32  \n",
              "8              75.31  \n",
              "9              76.24  "
            ],
            "text/html": [
              "\n",
              "\n",
              "  <div id=\"df-1e28d84c-6d12-4400-81f2-aded1fcf119c\">\n",
              "    <div class=\"colab-df-container\">\n",
              "      <div>\n",
              "<style scoped>\n",
              "    .dataframe tbody tr th:only-of-type {\n",
              "        vertical-align: middle;\n",
              "    }\n",
              "\n",
              "    .dataframe tbody tr th {\n",
              "        vertical-align: top;\n",
              "    }\n",
              "\n",
              "    .dataframe thead th {\n",
              "        text-align: right;\n",
              "    }\n",
              "</style>\n",
              "<table border=\"1\" class=\"dataframe\">\n",
              "  <thead>\n",
              "    <tr style=\"text-align: right;\">\n",
              "      <th></th>\n",
              "      <th>Timestamp</th>\n",
              "      <th>Temperature</th>\n",
              "      <th>Dew Point</th>\n",
              "      <th>Surface Albedo</th>\n",
              "      <th>Pressure</th>\n",
              "      <th>Wind Direction</th>\n",
              "      <th>Wind Speed</th>\n",
              "      <th>Clearsky DHI</th>\n",
              "      <th>Clearsky DNI</th>\n",
              "      <th>Clearsky GHI</th>\n",
              "      <th>Fill Flag</th>\n",
              "      <th>Ozone</th>\n",
              "      <th>Cloud Type</th>\n",
              "      <th>Solar Zenith Angle</th>\n",
              "      <th>Precipitable Water</th>\n",
              "      <th>Relative Humidity</th>\n",
              "    </tr>\n",
              "  </thead>\n",
              "  <tbody>\n",
              "    <tr>\n",
              "      <th>0</th>\n",
              "      <td>2019-01-01 00:00:00</td>\n",
              "      <td>12.5</td>\n",
              "      <td>6.9</td>\n",
              "      <td>0.21</td>\n",
              "      <td>1005</td>\n",
              "      <td>121.0</td>\n",
              "      <td>1.0</td>\n",
              "      <td>0.0</td>\n",
              "      <td>0.0</td>\n",
              "      <td>0.0</td>\n",
              "      <td>0.0</td>\n",
              "      <td>0.258</td>\n",
              "      <td>1.0</td>\n",
              "      <td>173.92</td>\n",
              "      <td>1.4</td>\n",
              "      <td>68.82</td>\n",
              "    </tr>\n",
              "    <tr>\n",
              "      <th>1</th>\n",
              "      <td>2019-01-01 00:10:00</td>\n",
              "      <td>12.3</td>\n",
              "      <td>6.9</td>\n",
              "      <td>0.21</td>\n",
              "      <td>1005</td>\n",
              "      <td>122.0</td>\n",
              "      <td>1.0</td>\n",
              "      <td>0.0</td>\n",
              "      <td>0.0</td>\n",
              "      <td>0.0</td>\n",
              "      <td>0.0</td>\n",
              "      <td>0.258</td>\n",
              "      <td>1.0</td>\n",
              "      <td>171.79</td>\n",
              "      <td>1.3</td>\n",
              "      <td>69.73</td>\n",
              "    </tr>\n",
              "    <tr>\n",
              "      <th>2</th>\n",
              "      <td>2019-01-01 00:20:00</td>\n",
              "      <td>12.1</td>\n",
              "      <td>6.9</td>\n",
              "      <td>0.21</td>\n",
              "      <td>1005</td>\n",
              "      <td>124.0</td>\n",
              "      <td>1.0</td>\n",
              "      <td>0.0</td>\n",
              "      <td>0.0</td>\n",
              "      <td>0.0</td>\n",
              "      <td>0.0</td>\n",
              "      <td>0.258</td>\n",
              "      <td>1.0</td>\n",
              "      <td>169.59</td>\n",
              "      <td>1.3</td>\n",
              "      <td>70.65</td>\n",
              "    </tr>\n",
              "    <tr>\n",
              "      <th>3</th>\n",
              "      <td>2019-01-01 00:30:00</td>\n",
              "      <td>12.0</td>\n",
              "      <td>6.9</td>\n",
              "      <td>0.21</td>\n",
              "      <td>1005</td>\n",
              "      <td>125.0</td>\n",
              "      <td>1.0</td>\n",
              "      <td>0.0</td>\n",
              "      <td>0.0</td>\n",
              "      <td>0.0</td>\n",
              "      <td>0.0</td>\n",
              "      <td>0.258</td>\n",
              "      <td>1.0</td>\n",
              "      <td>167.37</td>\n",
              "      <td>1.3</td>\n",
              "      <td>71.11</td>\n",
              "    </tr>\n",
              "    <tr>\n",
              "      <th>4</th>\n",
              "      <td>2019-01-01 00:40:00</td>\n",
              "      <td>11.8</td>\n",
              "      <td>6.9</td>\n",
              "      <td>0.21</td>\n",
              "      <td>1005</td>\n",
              "      <td>126.0</td>\n",
              "      <td>1.0</td>\n",
              "      <td>0.0</td>\n",
              "      <td>0.0</td>\n",
              "      <td>0.0</td>\n",
              "      <td>0.0</td>\n",
              "      <td>0.258</td>\n",
              "      <td>1.0</td>\n",
              "      <td>165.13</td>\n",
              "      <td>1.3</td>\n",
              "      <td>71.91</td>\n",
              "    </tr>\n",
              "    <tr>\n",
              "      <th>5</th>\n",
              "      <td>2019-01-01 00:50:00</td>\n",
              "      <td>11.6</td>\n",
              "      <td>6.9</td>\n",
              "      <td>0.21</td>\n",
              "      <td>1005</td>\n",
              "      <td>128.0</td>\n",
              "      <td>1.0</td>\n",
              "      <td>0.0</td>\n",
              "      <td>0.0</td>\n",
              "      <td>0.0</td>\n",
              "      <td>0.0</td>\n",
              "      <td>0.258</td>\n",
              "      <td>1.0</td>\n",
              "      <td>162.89</td>\n",
              "      <td>1.3</td>\n",
              "      <td>72.87</td>\n",
              "    </tr>\n",
              "    <tr>\n",
              "      <th>6</th>\n",
              "      <td>2019-01-01 01:00:00</td>\n",
              "      <td>11.4</td>\n",
              "      <td>6.9</td>\n",
              "      <td>0.21</td>\n",
              "      <td>1005</td>\n",
              "      <td>129.0</td>\n",
              "      <td>1.0</td>\n",
              "      <td>0.0</td>\n",
              "      <td>0.0</td>\n",
              "      <td>0.0</td>\n",
              "      <td>0.0</td>\n",
              "      <td>0.258</td>\n",
              "      <td>1.0</td>\n",
              "      <td>160.63</td>\n",
              "      <td>1.3</td>\n",
              "      <td>73.83</td>\n",
              "    </tr>\n",
              "    <tr>\n",
              "      <th>7</th>\n",
              "      <td>2019-01-01 01:10:00</td>\n",
              "      <td>11.3</td>\n",
              "      <td>6.9</td>\n",
              "      <td>0.21</td>\n",
              "      <td>1005</td>\n",
              "      <td>131.0</td>\n",
              "      <td>1.0</td>\n",
              "      <td>0.0</td>\n",
              "      <td>0.0</td>\n",
              "      <td>0.0</td>\n",
              "      <td>0.0</td>\n",
              "      <td>0.258</td>\n",
              "      <td>1.0</td>\n",
              "      <td>158.38</td>\n",
              "      <td>1.3</td>\n",
              "      <td>74.32</td>\n",
              "    </tr>\n",
              "    <tr>\n",
              "      <th>8</th>\n",
              "      <td>2019-01-01 01:20:00</td>\n",
              "      <td>11.1</td>\n",
              "      <td>6.9</td>\n",
              "      <td>0.21</td>\n",
              "      <td>1005</td>\n",
              "      <td>133.0</td>\n",
              "      <td>1.0</td>\n",
              "      <td>0.0</td>\n",
              "      <td>0.0</td>\n",
              "      <td>0.0</td>\n",
              "      <td>0.0</td>\n",
              "      <td>0.258</td>\n",
              "      <td>1.0</td>\n",
              "      <td>156.12</td>\n",
              "      <td>1.3</td>\n",
              "      <td>75.31</td>\n",
              "    </tr>\n",
              "    <tr>\n",
              "      <th>9</th>\n",
              "      <td>2019-01-01 01:30:00</td>\n",
              "      <td>10.9</td>\n",
              "      <td>6.9</td>\n",
              "      <td>0.21</td>\n",
              "      <td>1004</td>\n",
              "      <td>135.0</td>\n",
              "      <td>1.1</td>\n",
              "      <td>0.0</td>\n",
              "      <td>0.0</td>\n",
              "      <td>0.0</td>\n",
              "      <td>0.0</td>\n",
              "      <td>0.258</td>\n",
              "      <td>1.0</td>\n",
              "      <td>153.87</td>\n",
              "      <td>1.3</td>\n",
              "      <td>76.24</td>\n",
              "    </tr>\n",
              "  </tbody>\n",
              "</table>\n",
              "</div>\n",
              "      <button class=\"colab-df-convert\" onclick=\"convertToInteractive('df-1e28d84c-6d12-4400-81f2-aded1fcf119c')\"\n",
              "              title=\"Convert this dataframe to an interactive table.\"\n",
              "              style=\"display:none;\">\n",
              "\n",
              "  <svg xmlns=\"http://www.w3.org/2000/svg\" height=\"24px\"viewBox=\"0 0 24 24\"\n",
              "       width=\"24px\">\n",
              "    <path d=\"M0 0h24v24H0V0z\" fill=\"none\"/>\n",
              "    <path d=\"M18.56 5.44l.94 2.06.94-2.06 2.06-.94-2.06-.94-.94-2.06-.94 2.06-2.06.94zm-11 1L8.5 8.5l.94-2.06 2.06-.94-2.06-.94L8.5 2.5l-.94 2.06-2.06.94zm10 10l.94 2.06.94-2.06 2.06-.94-2.06-.94-.94-2.06-.94 2.06-2.06.94z\"/><path d=\"M17.41 7.96l-1.37-1.37c-.4-.4-.92-.59-1.43-.59-.52 0-1.04.2-1.43.59L10.3 9.45l-7.72 7.72c-.78.78-.78 2.05 0 2.83L4 21.41c.39.39.9.59 1.41.59.51 0 1.02-.2 1.41-.59l7.78-7.78 2.81-2.81c.8-.78.8-2.07 0-2.86zM5.41 20L4 18.59l7.72-7.72 1.47 1.35L5.41 20z\"/>\n",
              "  </svg>\n",
              "      </button>\n",
              "\n",
              "\n",
              "\n",
              "    <div id=\"df-cb9d8506-9a0d-484d-9147-7b4ebe0b4a76\">\n",
              "      <button class=\"colab-df-quickchart\" onclick=\"quickchart('df-cb9d8506-9a0d-484d-9147-7b4ebe0b4a76')\"\n",
              "              title=\"Suggest charts.\"\n",
              "              style=\"display:none;\">\n",
              "\n",
              "<svg xmlns=\"http://www.w3.org/2000/svg\" height=\"24px\"viewBox=\"0 0 24 24\"\n",
              "     width=\"24px\">\n",
              "    <g>\n",
              "        <path d=\"M19 3H5c-1.1 0-2 .9-2 2v14c0 1.1.9 2 2 2h14c1.1 0 2-.9 2-2V5c0-1.1-.9-2-2-2zM9 17H7v-7h2v7zm4 0h-2V7h2v10zm4 0h-2v-4h2v4z\"/>\n",
              "    </g>\n",
              "</svg>\n",
              "      </button>\n",
              "    </div>\n",
              "\n",
              "<style>\n",
              "  .colab-df-quickchart {\n",
              "    background-color: #E8F0FE;\n",
              "    border: none;\n",
              "    border-radius: 50%;\n",
              "    cursor: pointer;\n",
              "    display: none;\n",
              "    fill: #1967D2;\n",
              "    height: 32px;\n",
              "    padding: 0 0 0 0;\n",
              "    width: 32px;\n",
              "  }\n",
              "\n",
              "  .colab-df-quickchart:hover {\n",
              "    background-color: #E2EBFA;\n",
              "    box-shadow: 0px 1px 2px rgba(60, 64, 67, 0.3), 0px 1px 3px 1px rgba(60, 64, 67, 0.15);\n",
              "    fill: #174EA6;\n",
              "  }\n",
              "\n",
              "  [theme=dark] .colab-df-quickchart {\n",
              "    background-color: #3B4455;\n",
              "    fill: #D2E3FC;\n",
              "  }\n",
              "\n",
              "  [theme=dark] .colab-df-quickchart:hover {\n",
              "    background-color: #434B5C;\n",
              "    box-shadow: 0px 1px 3px 1px rgba(0, 0, 0, 0.15);\n",
              "    filter: drop-shadow(0px 1px 2px rgba(0, 0, 0, 0.3));\n",
              "    fill: #FFFFFF;\n",
              "  }\n",
              "</style>\n",
              "\n",
              "    <script>\n",
              "      async function quickchart(key) {\n",
              "        const containerElement = document.querySelector('#' + key);\n",
              "        const charts = await google.colab.kernel.invokeFunction(\n",
              "            'suggestCharts', [key], {});\n",
              "      }\n",
              "    </script>\n",
              "\n",
              "      <script>\n",
              "\n",
              "function displayQuickchartButton(domScope) {\n",
              "  let quickchartButtonEl =\n",
              "    domScope.querySelector('#df-cb9d8506-9a0d-484d-9147-7b4ebe0b4a76 button.colab-df-quickchart');\n",
              "  quickchartButtonEl.style.display =\n",
              "    google.colab.kernel.accessAllowed ? 'block' : 'none';\n",
              "}\n",
              "\n",
              "        displayQuickchartButton(document);\n",
              "      </script>\n",
              "      <style>\n",
              "    .colab-df-container {\n",
              "      display:flex;\n",
              "      flex-wrap:wrap;\n",
              "      gap: 12px;\n",
              "    }\n",
              "\n",
              "    .colab-df-convert {\n",
              "      background-color: #E8F0FE;\n",
              "      border: none;\n",
              "      border-radius: 50%;\n",
              "      cursor: pointer;\n",
              "      display: none;\n",
              "      fill: #1967D2;\n",
              "      height: 32px;\n",
              "      padding: 0 0 0 0;\n",
              "      width: 32px;\n",
              "    }\n",
              "\n",
              "    .colab-df-convert:hover {\n",
              "      background-color: #E2EBFA;\n",
              "      box-shadow: 0px 1px 2px rgba(60, 64, 67, 0.3), 0px 1px 3px 1px rgba(60, 64, 67, 0.15);\n",
              "      fill: #174EA6;\n",
              "    }\n",
              "\n",
              "    [theme=dark] .colab-df-convert {\n",
              "      background-color: #3B4455;\n",
              "      fill: #D2E3FC;\n",
              "    }\n",
              "\n",
              "    [theme=dark] .colab-df-convert:hover {\n",
              "      background-color: #434B5C;\n",
              "      box-shadow: 0px 1px 3px 1px rgba(0, 0, 0, 0.15);\n",
              "      filter: drop-shadow(0px 1px 2px rgba(0, 0, 0, 0.3));\n",
              "      fill: #FFFFFF;\n",
              "    }\n",
              "  </style>\n",
              "\n",
              "      <script>\n",
              "        const buttonEl =\n",
              "          document.querySelector('#df-1e28d84c-6d12-4400-81f2-aded1fcf119c button.colab-df-convert');\n",
              "        buttonEl.style.display =\n",
              "          google.colab.kernel.accessAllowed ? 'block' : 'none';\n",
              "\n",
              "        async function convertToInteractive(key) {\n",
              "          const element = document.querySelector('#df-1e28d84c-6d12-4400-81f2-aded1fcf119c');\n",
              "          const dataTable =\n",
              "            await google.colab.kernel.invokeFunction('convertToInteractive',\n",
              "                                                     [key], {});\n",
              "          if (!dataTable) return;\n",
              "\n",
              "          const docLinkHtml = 'Like what you see? Visit the ' +\n",
              "            '<a target=\"_blank\" href=https://colab.research.google.com/notebooks/data_table.ipynb>data table notebook</a>'\n",
              "            + ' to learn more about interactive tables.';\n",
              "          element.innerHTML = '';\n",
              "          dataTable['output_type'] = 'display_data';\n",
              "          await google.colab.output.renderOutput(dataTable, element);\n",
              "          const docLink = document.createElement('div');\n",
              "          docLink.innerHTML = docLinkHtml;\n",
              "          element.appendChild(docLink);\n",
              "        }\n",
              "      </script>\n",
              "    </div>\n",
              "  </div>\n"
            ]
          },
          "metadata": {},
          "execution_count": 14
        }
      ],
      "source": [
        "data.head(10)"
      ]
    },
    {
      "cell_type": "code",
      "execution_count": 15,
      "metadata": {
        "colab": {
          "base_uri": "https://localhost:8080/",
          "height": 0
        },
        "id": "Jb0KquwwU7Ts",
        "outputId": "6930db15-14ae-4570-8884-077d6b6a9129"
      },
      "outputs": [
        {
          "output_type": "stream",
          "name": "stdout",
          "text": [
            "<class 'pandas.core.frame.DataFrame'>\n",
            "RangeIndex: 51533 entries, 0 to 51532\n",
            "Data columns (total 16 columns):\n",
            " #   Column              Non-Null Count  Dtype  \n",
            "---  ------              --------------  -----  \n",
            " 0   Timestamp           51533 non-null  object \n",
            " 1   Temperature         51533 non-null  float64\n",
            " 2   Dew Point           51533 non-null  float64\n",
            " 3   Surface Albedo      51533 non-null  float64\n",
            " 4   Pressure            51533 non-null  int64  \n",
            " 5   Wind Direction      51532 non-null  float64\n",
            " 6   Wind Speed          51532 non-null  float64\n",
            " 7   Clearsky DHI        51532 non-null  float64\n",
            " 8   Clearsky DNI        51532 non-null  float64\n",
            " 9   Clearsky GHI        51532 non-null  float64\n",
            " 10  Fill Flag           51532 non-null  float64\n",
            " 11  Ozone               51532 non-null  float64\n",
            " 12  Cloud Type          51532 non-null  float64\n",
            " 13  Solar Zenith Angle  51532 non-null  float64\n",
            " 14  Precipitable Water  51532 non-null  float64\n",
            " 15  Relative Humidity   51532 non-null  float64\n",
            "dtypes: float64(14), int64(1), object(1)\n",
            "memory usage: 6.3+ MB\n"
          ]
        }
      ],
      "source": [
        "data.info()"
      ]
    },
    {
      "cell_type": "code",
      "execution_count": 16,
      "metadata": {
        "id": "TqQE2hvgVIdy"
      },
      "outputs": [],
      "source": [
        "data = data.drop('Timestamp', axis=1)"
      ]
    },
    {
      "cell_type": "code",
      "source": [
        "data = data.dropna()"
      ],
      "metadata": {
        "id": "SdrOOIO-iEGS"
      },
      "execution_count": 17,
      "outputs": []
    },
    {
      "cell_type": "code",
      "execution_count": 18,
      "metadata": {
        "colab": {
          "base_uri": "https://localhost:8080/",
          "height": 0
        },
        "id": "SFjRjzjQVQj8",
        "outputId": "3fddd5ff-47dd-4008-9ebc-8fca9b985b4a"
      },
      "outputs": [
        {
          "output_type": "stream",
          "name": "stdout",
          "text": [
            "<class 'pandas.core.frame.DataFrame'>\n",
            "Int64Index: 51532 entries, 0 to 51531\n",
            "Data columns (total 15 columns):\n",
            " #   Column              Non-Null Count  Dtype  \n",
            "---  ------              --------------  -----  \n",
            " 0   Temperature         51532 non-null  float64\n",
            " 1   Dew Point           51532 non-null  float64\n",
            " 2   Surface Albedo      51532 non-null  float64\n",
            " 3   Pressure            51532 non-null  int64  \n",
            " 4   Wind Direction      51532 non-null  float64\n",
            " 5   Wind Speed          51532 non-null  float64\n",
            " 6   Clearsky DHI        51532 non-null  float64\n",
            " 7   Clearsky DNI        51532 non-null  float64\n",
            " 8   Clearsky GHI        51532 non-null  float64\n",
            " 9   Fill Flag           51532 non-null  float64\n",
            " 10  Ozone               51532 non-null  float64\n",
            " 11  Cloud Type          51532 non-null  float64\n",
            " 12  Solar Zenith Angle  51532 non-null  float64\n",
            " 13  Precipitable Water  51532 non-null  float64\n",
            " 14  Relative Humidity   51532 non-null  float64\n",
            "dtypes: float64(14), int64(1)\n",
            "memory usage: 6.3 MB\n"
          ]
        }
      ],
      "source": [
        "data.info()"
      ]
    },
    {
      "cell_type": "code",
      "execution_count": 19,
      "metadata": {
        "id": "3QANPdp0VPzI"
      },
      "outputs": [],
      "source": [
        "#clearsky DHI\n",
        "X = data.drop(['Clearsky DHI', 'Clearsky DNI', 'Clearsky GHI'], axis=1)\n",
        "y_DHI = data['Clearsky DHI']\n",
        "\n",
        "#clearsky DNI\n",
        "y_DNI = data['Clearsky DNI']\n",
        "\n",
        "#clearsky GHI\n",
        "y_GHI = data['Clearsky GHI']"
      ]
    },
    {
      "cell_type": "code",
      "execution_count": 20,
      "metadata": {
        "id": "ioINw1GN0sOD"
      },
      "outputs": [],
      "source": [
        "#standardization\n",
        "from sklearn.preprocessing import StandardScaler\n",
        "\n",
        "sc = StandardScaler()\n",
        "X = sc.fit_transform(X)"
      ]
    },
    {
      "cell_type": "code",
      "execution_count": 21,
      "metadata": {
        "id": "srum2AdI1PK3"
      },
      "outputs": [],
      "source": [
        "#train test split\n",
        "from sklearn.model_selection import train_test_split\n",
        "\n",
        "#dhi\n",
        "X_train1, X_test1, y_train1, y_test1 = train_test_split(X, y_DHI, test_size= 0.3, random_state=29)\n",
        "\n",
        "#dni\n",
        "X_train2, X_test2, y_train2, y_test2 = train_test_split(X, y_DNI, test_size= 0.3, random_state=29)\n",
        "\n",
        "#ghi\n",
        "X_train3, X_test3, y_train3, y_test3 = train_test_split(X, y_GHI, test_size= 0.3, random_state=29)"
      ]
    },
    {
      "cell_type": "code",
      "execution_count": 22,
      "metadata": {
        "id": "F206Xaom1Tta"
      },
      "outputs": [],
      "source": [
        "from sklearn.ensemble import RandomForestRegressor\n",
        "from sklearn.metrics import mean_squared_error\n",
        "\n",
        "model = RandomForestRegressor()"
      ]
    },
    {
      "cell_type": "code",
      "execution_count": 23,
      "metadata": {
        "id": "iAKUJVjC4RPx"
      },
      "outputs": [],
      "source": [
        "model_dhi = model.fit(X_train1, y_train1)"
      ]
    },
    {
      "cell_type": "code",
      "execution_count": 24,
      "metadata": {
        "id": "-3N_AY5G4oss"
      },
      "outputs": [],
      "source": [
        "pred_dhi = model_dhi.predict(X_test1)"
      ]
    },
    {
      "cell_type": "code",
      "execution_count": 25,
      "metadata": {
        "colab": {
          "base_uri": "https://localhost:8080/",
          "height": 0
        },
        "id": "KlQ0mNWm5lLi",
        "outputId": "82efa115-614b-43f1-c693-246026c1df19"
      },
      "outputs": [
        {
          "output_type": "stream",
          "name": "stdout",
          "text": [
            "100.21267194049159\n"
          ]
        }
      ],
      "source": [
        "print(mean_squared_error(y_test1, pred_dhi))"
      ]
    },
    {
      "cell_type": "code",
      "execution_count": 26,
      "metadata": {
        "colab": {
          "base_uri": "https://localhost:8080/",
          "height": 0
        },
        "id": "Osbyk9LN8AHL",
        "outputId": "80b0e224-2244-4383-aa7a-a636dcaee0f9"
      },
      "outputs": [
        {
          "output_type": "execute_result",
          "data": {
            "text/plain": [
              "array([  0.  , 177.2 , 234.44, ..., 169.95,  45.56,   0.  ])"
            ]
          },
          "metadata": {},
          "execution_count": 26
        }
      ],
      "source": [
        "pred_dhi"
      ]
    },
    {
      "cell_type": "code",
      "execution_count": 27,
      "metadata": {
        "colab": {
          "base_uri": "https://localhost:8080/",
          "height": 0
        },
        "id": "YaWVaZKm5u1h",
        "outputId": "a016a708-d26b-4b52-e87b-b9da80936fef"
      },
      "outputs": [
        {
          "output_type": "stream",
          "name": "stdout",
          "text": [
            "942.5471416494178\n"
          ]
        }
      ],
      "source": [
        "model2 = RandomForestRegressor()\n",
        "model_dni = model2.fit(X_train2, y_train2)\n",
        "pred_dni = model_dni.predict(X_test2)\n",
        "print(mean_squared_error(y_test2, pred_dni))"
      ]
    },
    {
      "cell_type": "code",
      "execution_count": 28,
      "metadata": {
        "colab": {
          "base_uri": "https://localhost:8080/",
          "height": 0
        },
        "id": "R2WqIUcw8Ci2",
        "outputId": "4d650063-21b2-472b-dc4b-c6cda7e79ffc"
      },
      "outputs": [
        {
          "output_type": "execute_result",
          "data": {
            "text/plain": [
              "array([  0.  , 379.5 , 805.28, ..., 504.77, 136.57,   0.  ])"
            ]
          },
          "metadata": {},
          "execution_count": 28
        }
      ],
      "source": [
        "pred_dni"
      ]
    },
    {
      "cell_type": "code",
      "execution_count": 29,
      "metadata": {
        "colab": {
          "base_uri": "https://localhost:8080/",
          "height": 0
        },
        "id": "dselJ5qB5-Rk",
        "outputId": "4bd54ace-9c61-4b99-bf72-d393b061775f"
      },
      "outputs": [
        {
          "output_type": "stream",
          "name": "stdout",
          "text": [
            "109.84683787192755\n"
          ]
        }
      ],
      "source": [
        "model3 = RandomForestRegressor()\n",
        "model_ghi = model3.fit(X_train3, y_train3)\n",
        "pred_ghi = model_ghi.predict(X_test3)\n",
        "print(mean_squared_error(y_test3, pred_ghi))"
      ]
    },
    {
      "cell_type": "code",
      "execution_count": 30,
      "metadata": {
        "colab": {
          "base_uri": "https://localhost:8080/",
          "height": 0
        },
        "id": "6dOzV1zO8EgX",
        "outputId": "99cc1f4c-0434-434e-e744-223fd2c161bd"
      },
      "outputs": [
        {
          "output_type": "execute_result",
          "data": {
            "text/plain": [
              "array([   0.  ,  338.97, 1017.69, ...,  364.66,   63.25,    0.  ])"
            ]
          },
          "metadata": {},
          "execution_count": 30
        }
      ],
      "source": [
        "pred_ghi"
      ]
    },
    {
      "cell_type": "code",
      "execution_count": 31,
      "metadata": {
        "id": "ThjphMPC6HYw"
      },
      "outputs": [],
      "source": [
        "test = pd.read_csv('test.csv')"
      ]
    },
    {
      "cell_type": "code",
      "execution_count": 32,
      "metadata": {
        "id": "8gVJ6n9N8L-2"
      },
      "outputs": [],
      "source": [
        "test = test.drop(['Timestamp','Clearsky DHI', 'Clearsky DNI', 'Clearsky GHI'], axis = 1)"
      ]
    },
    {
      "cell_type": "code",
      "execution_count": 33,
      "metadata": {
        "id": "vP85mLOB8Sgn"
      },
      "outputs": [],
      "source": [
        "test = sc.fit_transform(test)"
      ]
    },
    {
      "cell_type": "code",
      "execution_count": 34,
      "metadata": {
        "id": "qZ1hfJWK8mSn"
      },
      "outputs": [],
      "source": [
        "#dhi pred\n",
        "pred1 = model.predict(test)"
      ]
    },
    {
      "cell_type": "code",
      "execution_count": 35,
      "metadata": {
        "id": "6gszFLVz8u2v"
      },
      "outputs": [],
      "source": [
        "#dni\n",
        "pred2 = model2.predict(test)"
      ]
    },
    {
      "cell_type": "code",
      "execution_count": 36,
      "metadata": {
        "id": "JJxqunC09CVp"
      },
      "outputs": [],
      "source": [
        "#ghi\n",
        "pred3 = model3.predict(test)"
      ]
    },
    {
      "cell_type": "code",
      "execution_count": 37,
      "metadata": {
        "id": "frM8wh_M9KLV"
      },
      "outputs": [],
      "source": [
        "pred1 = pd.DataFrame(pred1)\n",
        "pred2 = pd.DataFrame(pred2)\n",
        "pred3 = pd.DataFrame(pred3)\n",
        "\n",
        "pred1.to_csv('DHI.csv', index=False)\n",
        "pred2.to_csv('DNI.csv', index=False)\n",
        "pred3.to_csv('GHI.csv', index=False)"
      ]
    },
    {
      "cell_type": "code",
      "execution_count": 38,
      "metadata": {
        "colab": {
          "base_uri": "https://localhost:8080/",
          "height": 0
        },
        "id": "L4XhRP-w97aD",
        "outputId": "07d3191b-1c8c-462c-fa32-ad8cab6af4da"
      },
      "outputs": [
        {
          "output_type": "stream",
          "name": "stdout",
          "text": [
            "Collecting pycaret\n",
            "  Downloading pycaret-3.0.4-py3-none-any.whl (484 kB)\n",
            "\u001b[?25l     \u001b[90m━━━━━━━━━━━━━━━━━━━━━━━━━━━━━━━━━━━━━━━━\u001b[0m \u001b[32m0.0/484.4 kB\u001b[0m \u001b[31m?\u001b[0m eta \u001b[36m-:--:--\u001b[0m\r\u001b[2K     \u001b[90m━━━━━━━━━━━━━━━━━━━━━━━━━━━━━━━━━━━━━━\u001b[0m \u001b[32m484.4/484.4 kB\u001b[0m \u001b[31m29.3 MB/s\u001b[0m eta \u001b[36m0:00:00\u001b[0m\n",
            "\u001b[?25hRequirement already satisfied: ipython>=5.5.0 in /usr/local/lib/python3.10/dist-packages (from pycaret) (7.34.0)\n",
            "Requirement already satisfied: ipywidgets>=7.6.5 in /usr/local/lib/python3.10/dist-packages (from pycaret) (7.7.1)\n",
            "Requirement already satisfied: tqdm>=4.62.0 in /usr/local/lib/python3.10/dist-packages (from pycaret) (4.65.0)\n",
            "Requirement already satisfied: numpy<1.24,>=1.21 in /usr/local/lib/python3.10/dist-packages (from pycaret) (1.22.4)\n",
            "Requirement already satisfied: pandas<2.0.0,>=1.3.0 in /usr/local/lib/python3.10/dist-packages (from pycaret) (1.5.3)\n",
            "Requirement already satisfied: jinja2>=1.2 in /usr/local/lib/python3.10/dist-packages (from pycaret) (3.1.2)\n",
            "Requirement already satisfied: scipy<2.0.0 in /usr/local/lib/python3.10/dist-packages (from pycaret) (1.10.1)\n",
            "Requirement already satisfied: joblib>=1.2.0 in /usr/local/lib/python3.10/dist-packages (from pycaret) (1.3.1)\n",
            "Requirement already satisfied: scikit-learn<1.3.0,>=1.0 in /usr/local/lib/python3.10/dist-packages (from pycaret) (1.2.2)\n",
            "Collecting pyod>=1.0.8 (from pycaret)\n",
            "  Downloading pyod-1.1.0.tar.gz (153 kB)\n",
            "\u001b[2K     \u001b[90m━━━━━━━━━━━━━━━━━━━━━━━━━━━━━━━━━━━━━━\u001b[0m \u001b[32m153.4/153.4 kB\u001b[0m \u001b[31m19.0 MB/s\u001b[0m eta \u001b[36m0:00:00\u001b[0m\n",
            "\u001b[?25h  Preparing metadata (setup.py) ... \u001b[?25l\u001b[?25hdone\n",
            "Requirement already satisfied: imbalanced-learn>=0.8.1 in /usr/local/lib/python3.10/dist-packages (from pycaret) (0.10.1)\n",
            "Collecting category-encoders>=2.4.0 (from pycaret)\n",
            "  Downloading category_encoders-2.6.1-py2.py3-none-any.whl (81 kB)\n",
            "\u001b[2K     \u001b[90m━━━━━━━━━━━━━━━━━━━━━━━━━━━━━━━━━━━━━━━━\u001b[0m \u001b[32m81.9/81.9 kB\u001b[0m \u001b[31m11.0 MB/s\u001b[0m eta \u001b[36m0:00:00\u001b[0m\n",
            "\u001b[?25hRequirement already satisfied: lightgbm>=3.0.0 in /usr/local/lib/python3.10/dist-packages (from pycaret) (3.3.5)\n",
            "Requirement already satisfied: numba>=0.55.0 in /usr/local/lib/python3.10/dist-packages (from pycaret) (0.56.4)\n",
            "Requirement already satisfied: requests>=2.27.1 in /usr/local/lib/python3.10/dist-packages (from pycaret) (2.27.1)\n",
            "Requirement already satisfied: psutil>=5.9.0 in /usr/local/lib/python3.10/dist-packages (from pycaret) (5.9.5)\n",
            "Requirement already satisfied: markupsafe>=2.0.1 in /usr/local/lib/python3.10/dist-packages (from pycaret) (2.1.3)\n",
            "Collecting importlib-metadata>=4.12.0 (from pycaret)\n",
            "  Downloading importlib_metadata-6.8.0-py3-none-any.whl (22 kB)\n",
            "Requirement already satisfied: nbformat>=4.2.0 in /usr/local/lib/python3.10/dist-packages (from pycaret) (5.9.0)\n",
            "Requirement already satisfied: cloudpickle in /usr/local/lib/python3.10/dist-packages (from pycaret) (2.2.1)\n",
            "Collecting deprecation>=2.1.0 (from pycaret)\n",
            "  Downloading deprecation-2.1.0-py2.py3-none-any.whl (11 kB)\n",
            "Collecting xxhash (from pycaret)\n",
            "  Downloading xxhash-3.2.0-cp310-cp310-manylinux_2_17_x86_64.manylinux2014_x86_64.whl (212 kB)\n",
            "\u001b[2K     \u001b[90m━━━━━━━━━━━━━━━━━━━━━━━━━━━━━━━━━━━━━━\u001b[0m \u001b[32m212.5/212.5 kB\u001b[0m \u001b[31m22.4 MB/s\u001b[0m eta \u001b[36m0:00:00\u001b[0m\n",
            "\u001b[?25hRequirement already satisfied: matplotlib>=3.3.0 in /usr/local/lib/python3.10/dist-packages (from pycaret) (3.7.1)\n",
            "Collecting scikit-plot>=0.3.7 (from pycaret)\n",
            "  Downloading scikit_plot-0.3.7-py3-none-any.whl (33 kB)\n",
            "Requirement already satisfied: yellowbrick>=1.4 in /usr/local/lib/python3.10/dist-packages (from pycaret) (1.5)\n",
            "Requirement already satisfied: plotly>=5.0.0 in /usr/local/lib/python3.10/dist-packages (from pycaret) (5.13.1)\n",
            "Collecting kaleido>=0.2.1 (from pycaret)\n",
            "  Downloading kaleido-0.2.1-py2.py3-none-manylinux1_x86_64.whl (79.9 MB)\n",
            "\u001b[2K     \u001b[90m━━━━━━━━━━━━━━━━━━━━━━━━━━━━━━━━━━━━━━━━\u001b[0m \u001b[32m79.9/79.9 MB\u001b[0m \u001b[31m8.4 MB/s\u001b[0m eta \u001b[36m0:00:00\u001b[0m\n",
            "\u001b[?25hCollecting schemdraw==0.15 (from pycaret)\n",
            "  Downloading schemdraw-0.15-py3-none-any.whl (106 kB)\n",
            "\u001b[2K     \u001b[90m━━━━━━━━━━━━━━━━━━━━━━━━━━━━━━━━━━━━━━\u001b[0m \u001b[32m106.8/106.8 kB\u001b[0m \u001b[31m13.2 MB/s\u001b[0m eta \u001b[36m0:00:00\u001b[0m\n",
            "\u001b[?25hCollecting plotly-resampler>=0.8.3.1 (from pycaret)\n",
            "  Downloading plotly_resampler-0.9.0-py3-none-any.whl (73 kB)\n",
            "\u001b[2K     \u001b[90m━━━━━━━━━━━━━━━━━━━━━━━━━━━━━━━━━━━━━━━━\u001b[0m \u001b[32m73.3/73.3 kB\u001b[0m \u001b[31m9.3 MB/s\u001b[0m eta \u001b[36m0:00:00\u001b[0m\n",
            "\u001b[?25hRequirement already satisfied: statsmodels>=0.12.1 in /usr/local/lib/python3.10/dist-packages (from pycaret) (0.13.5)\n",
            "Collecting sktime!=0.17.1,!=0.17.2,!=0.18.0,>=0.16.1 (from pycaret)\n",
            "  Downloading sktime-0.20.0-py3-none-any.whl (17.0 MB)\n",
            "\u001b[2K     \u001b[90m━━━━━━━━━━━━━━━━━━━━━━━━━━━━━━━━━━━━━━━━\u001b[0m \u001b[32m17.0/17.0 MB\u001b[0m \u001b[31m58.0 MB/s\u001b[0m eta \u001b[36m0:00:00\u001b[0m\n",
            "\u001b[?25hCollecting tbats>=1.1.3 (from pycaret)\n",
            "  Downloading tbats-1.1.3-py3-none-any.whl (44 kB)\n",
            "\u001b[2K     \u001b[90m━━━━━━━━━━━━━━━━━━━━━━━━━━━━━━━━━━━━━━━━\u001b[0m \u001b[32m44.0/44.0 kB\u001b[0m \u001b[31m5.2 MB/s\u001b[0m eta \u001b[36m0:00:00\u001b[0m\n",
            "\u001b[?25hCollecting pmdarima!=1.8.1,<3.0.0,>=1.8.0 (from pycaret)\n",
            "  Downloading pmdarima-2.0.3-cp310-cp310-manylinux_2_17_x86_64.manylinux2014_x86_64.manylinux_2_28_x86_64.whl (1.8 MB)\n",
            "\u001b[2K     \u001b[90m━━━━━━━━━━━━━━━━━━━━━━━━━━━━━━━━━━━━━━━━\u001b[0m \u001b[32m1.8/1.8 MB\u001b[0m \u001b[31m72.8 MB/s\u001b[0m eta \u001b[36m0:00:00\u001b[0m\n",
            "\u001b[?25hCollecting wurlitzer (from pycaret)\n",
            "  Downloading wurlitzer-3.0.3-py3-none-any.whl (7.3 kB)\n",
            "Requirement already satisfied: patsy>=0.5.1 in /usr/local/lib/python3.10/dist-packages (from category-encoders>=2.4.0->pycaret) (0.5.3)\n",
            "Requirement already satisfied: packaging in /usr/local/lib/python3.10/dist-packages (from deprecation>=2.1.0->pycaret) (23.1)\n",
            "Requirement already satisfied: threadpoolctl>=2.0.0 in /usr/local/lib/python3.10/dist-packages (from imbalanced-learn>=0.8.1->pycaret) (3.1.0)\n",
            "Requirement already satisfied: zipp>=0.5 in /usr/local/lib/python3.10/dist-packages (from importlib-metadata>=4.12.0->pycaret) (3.15.0)\n",
            "Requirement already satisfied: setuptools>=18.5 in /usr/local/lib/python3.10/dist-packages (from ipython>=5.5.0->pycaret) (67.7.2)\n",
            "Collecting jedi>=0.16 (from ipython>=5.5.0->pycaret)\n",
            "  Downloading jedi-0.18.2-py2.py3-none-any.whl (1.6 MB)\n",
            "\u001b[2K     \u001b[90m━━━━━━━━━━━━━━━━━━━━━━━━━━━━━━━━━━━━━━━━\u001b[0m \u001b[32m1.6/1.6 MB\u001b[0m \u001b[31m74.0 MB/s\u001b[0m eta \u001b[36m0:00:00\u001b[0m\n",
            "\u001b[?25hRequirement already satisfied: decorator in /usr/local/lib/python3.10/dist-packages (from ipython>=5.5.0->pycaret) (4.4.2)\n",
            "Requirement already satisfied: pickleshare in /usr/local/lib/python3.10/dist-packages (from ipython>=5.5.0->pycaret) (0.7.5)\n",
            "Requirement already satisfied: traitlets>=4.2 in /usr/local/lib/python3.10/dist-packages (from ipython>=5.5.0->pycaret) (5.7.1)\n",
            "Requirement already satisfied: prompt-toolkit!=3.0.0,!=3.0.1,<3.1.0,>=2.0.0 in /usr/local/lib/python3.10/dist-packages (from ipython>=5.5.0->pycaret) (3.0.39)\n",
            "Requirement already satisfied: pygments in /usr/local/lib/python3.10/dist-packages (from ipython>=5.5.0->pycaret) (2.14.0)\n",
            "Requirement already satisfied: backcall in /usr/local/lib/python3.10/dist-packages (from ipython>=5.5.0->pycaret) (0.2.0)\n",
            "Requirement already satisfied: matplotlib-inline in /usr/local/lib/python3.10/dist-packages (from ipython>=5.5.0->pycaret) (0.1.6)\n",
            "Requirement already satisfied: pexpect>4.3 in /usr/local/lib/python3.10/dist-packages (from ipython>=5.5.0->pycaret) (4.8.0)\n",
            "Requirement already satisfied: ipykernel>=4.5.1 in /usr/local/lib/python3.10/dist-packages (from ipywidgets>=7.6.5->pycaret) (5.5.6)\n",
            "Requirement already satisfied: ipython-genutils~=0.2.0 in /usr/local/lib/python3.10/dist-packages (from ipywidgets>=7.6.5->pycaret) (0.2.0)\n",
            "Requirement already satisfied: widgetsnbextension~=3.6.0 in /usr/local/lib/python3.10/dist-packages (from ipywidgets>=7.6.5->pycaret) (3.6.4)\n",
            "Requirement already satisfied: jupyterlab-widgets>=1.0.0 in /usr/local/lib/python3.10/dist-packages (from ipywidgets>=7.6.5->pycaret) (3.0.8)\n",
            "Requirement already satisfied: wheel in /usr/local/lib/python3.10/dist-packages (from lightgbm>=3.0.0->pycaret) (0.40.0)\n",
            "Requirement already satisfied: contourpy>=1.0.1 in /usr/local/lib/python3.10/dist-packages (from matplotlib>=3.3.0->pycaret) (1.1.0)\n",
            "Requirement already satisfied: cycler>=0.10 in /usr/local/lib/python3.10/dist-packages (from matplotlib>=3.3.0->pycaret) (0.11.0)\n",
            "Requirement already satisfied: fonttools>=4.22.0 in /usr/local/lib/python3.10/dist-packages (from matplotlib>=3.3.0->pycaret) (4.40.0)\n",
            "Requirement already satisfied: kiwisolver>=1.0.1 in /usr/local/lib/python3.10/dist-packages (from matplotlib>=3.3.0->pycaret) (1.4.4)\n",
            "Requirement already satisfied: pillow>=6.2.0 in /usr/local/lib/python3.10/dist-packages (from matplotlib>=3.3.0->pycaret) (8.4.0)\n",
            "Requirement already satisfied: pyparsing>=2.3.1 in /usr/local/lib/python3.10/dist-packages (from matplotlib>=3.3.0->pycaret) (3.1.0)\n",
            "Requirement already satisfied: python-dateutil>=2.7 in /usr/local/lib/python3.10/dist-packages (from matplotlib>=3.3.0->pycaret) (2.8.2)\n",
            "Requirement already satisfied: fastjsonschema in /usr/local/lib/python3.10/dist-packages (from nbformat>=4.2.0->pycaret) (2.17.1)\n",
            "Requirement already satisfied: jsonschema>=2.6 in /usr/local/lib/python3.10/dist-packages (from nbformat>=4.2.0->pycaret) (4.3.3)\n",
            "Requirement already satisfied: jupyter-core in /usr/local/lib/python3.10/dist-packages (from nbformat>=4.2.0->pycaret) (5.3.1)\n",
            "Requirement already satisfied: llvmlite<0.40,>=0.39.0dev0 in /usr/local/lib/python3.10/dist-packages (from numba>=0.55.0->pycaret) (0.39.1)\n",
            "Requirement already satisfied: pytz>=2020.1 in /usr/local/lib/python3.10/dist-packages (from pandas<2.0.0,>=1.3.0->pycaret) (2022.7.1)\n",
            "Requirement already satisfied: tenacity>=6.2.0 in /usr/local/lib/python3.10/dist-packages (from plotly>=5.0.0->pycaret) (8.2.2)\n",
            "Collecting dash<3.0.0,>=2.11.0 (from plotly-resampler>=0.8.3.1->pycaret)\n",
            "  Downloading dash-2.11.1-py3-none-any.whl (10.4 MB)\n",
            "\u001b[2K     \u001b[90m━━━━━━━━━━━━━━━━━━━━━━━━━━━━━━━━━━━━━━━\u001b[0m \u001b[32m10.4/10.4 MB\u001b[0m \u001b[31m105.9 MB/s\u001b[0m eta \u001b[36m0:00:00\u001b[0m\n",
            "\u001b[?25hCollecting orjson<4.0.0,>=3.8.0 (from plotly-resampler>=0.8.3.1->pycaret)\n",
            "  Downloading orjson-3.9.2-cp310-cp310-manylinux_2_17_x86_64.manylinux2014_x86_64.whl (138 kB)\n",
            "\u001b[2K     \u001b[90m━━━━━━━━━━━━━━━━━━━━━━━━━━━━━━━━━━━━━━\u001b[0m \u001b[32m138.7/138.7 kB\u001b[0m \u001b[31m17.0 MB/s\u001b[0m eta \u001b[36m0:00:00\u001b[0m\n",
            "\u001b[?25hCollecting trace-updater>=0.0.8 (from plotly-resampler>=0.8.3.1->pycaret)\n",
            "  Downloading trace_updater-0.0.9.1-py3-none-any.whl (185 kB)\n",
            "\u001b[2K     \u001b[90m━━━━━━━━━━━━━━━━━━━━━━━━━━━━━━━━━━━━━━\u001b[0m \u001b[32m185.2/185.2 kB\u001b[0m \u001b[31m21.7 MB/s\u001b[0m eta \u001b[36m0:00:00\u001b[0m\n",
            "\u001b[?25hCollecting tsdownsample==0.1.2 (from plotly-resampler>=0.8.3.1->pycaret)\n",
            "  Downloading tsdownsample-0.1.2-cp310-cp310-manylinux_2_17_x86_64.manylinux2014_x86_64.whl (2.3 MB)\n",
            "\u001b[2K     \u001b[90m━━━━━━━━━━━━━━━━━━━━━━━━━━━━━━━━━━━━━━━━\u001b[0m \u001b[32m2.3/2.3 MB\u001b[0m \u001b[31m86.4 MB/s\u001b[0m eta \u001b[36m0:00:00\u001b[0m\n",
            "\u001b[?25hRequirement already satisfied: Cython!=0.29.18,!=0.29.31,>=0.29 in /usr/local/lib/python3.10/dist-packages (from pmdarima!=1.8.1,<3.0.0,>=1.8.0->pycaret) (0.29.36)\n",
            "Requirement already satisfied: urllib3 in /usr/local/lib/python3.10/dist-packages (from pmdarima!=1.8.1,<3.0.0,>=1.8.0->pycaret) (1.26.16)\n",
            "Requirement already satisfied: six in /usr/local/lib/python3.10/dist-packages (from pyod>=1.0.8->pycaret) (1.16.0)\n",
            "Requirement already satisfied: certifi>=2017.4.17 in /usr/local/lib/python3.10/dist-packages (from requests>=2.27.1->pycaret) (2023.5.7)\n",
            "Requirement already satisfied: charset-normalizer~=2.0.0 in /usr/local/lib/python3.10/dist-packages (from requests>=2.27.1->pycaret) (2.0.12)\n",
            "Requirement already satisfied: idna<4,>=2.5 in /usr/local/lib/python3.10/dist-packages (from requests>=2.27.1->pycaret) (3.4)\n",
            "Collecting deprecated>=1.2.13 (from sktime!=0.17.1,!=0.17.2,!=0.18.0,>=0.16.1->pycaret)\n",
            "  Downloading Deprecated-1.2.14-py2.py3-none-any.whl (9.6 kB)\n",
            "Collecting scikit-base<0.6.0 (from sktime!=0.17.1,!=0.17.2,!=0.18.0,>=0.16.1->pycaret)\n",
            "  Downloading scikit_base-0.5.0-py3-none-any.whl (118 kB)\n",
            "\u001b[2K     \u001b[90m━━━━━━━━━━━━━━━━━━━━━━━━━━━━━━━━━━━━━━\u001b[0m \u001b[32m118.2/118.2 kB\u001b[0m \u001b[31m13.8 MB/s\u001b[0m eta \u001b[36m0:00:00\u001b[0m\n",
            "\u001b[?25hRequirement already satisfied: Flask<2.3.0,>=1.0.4 in /usr/local/lib/python3.10/dist-packages (from dash<3.0.0,>=2.11.0->plotly-resampler>=0.8.3.1->pycaret) (2.2.5)\n",
            "Collecting Werkzeug<2.3.0 (from dash<3.0.0,>=2.11.0->plotly-resampler>=0.8.3.1->pycaret)\n",
            "  Downloading Werkzeug-2.2.3-py3-none-any.whl (233 kB)\n",
            "\u001b[2K     \u001b[90m━━━━━━━━━━━━━━━━━━━━━━━━━━━━━━━━━━━━━━\u001b[0m \u001b[32m233.6/233.6 kB\u001b[0m \u001b[31m24.5 MB/s\u001b[0m eta \u001b[36m0:00:00\u001b[0m\n",
            "\u001b[?25hCollecting dash-html-components==2.0.0 (from dash<3.0.0,>=2.11.0->plotly-resampler>=0.8.3.1->pycaret)\n",
            "  Downloading dash_html_components-2.0.0-py3-none-any.whl (4.1 kB)\n",
            "Collecting dash-core-components==2.0.0 (from dash<3.0.0,>=2.11.0->plotly-resampler>=0.8.3.1->pycaret)\n",
            "  Downloading dash_core_components-2.0.0-py3-none-any.whl (3.8 kB)\n",
            "Collecting dash-table==5.0.0 (from dash<3.0.0,>=2.11.0->plotly-resampler>=0.8.3.1->pycaret)\n",
            "  Downloading dash_table-5.0.0-py3-none-any.whl (3.9 kB)\n",
            "Requirement already satisfied: typing-extensions>=4.1.1 in /usr/local/lib/python3.10/dist-packages (from dash<3.0.0,>=2.11.0->plotly-resampler>=0.8.3.1->pycaret) (4.7.1)\n",
            "Collecting retrying (from dash<3.0.0,>=2.11.0->plotly-resampler>=0.8.3.1->pycaret)\n",
            "  Downloading retrying-1.3.4-py3-none-any.whl (11 kB)\n",
            "Collecting ansi2html (from dash<3.0.0,>=2.11.0->plotly-resampler>=0.8.3.1->pycaret)\n",
            "  Downloading ansi2html-1.8.0-py3-none-any.whl (16 kB)\n",
            "Requirement already satisfied: nest-asyncio in /usr/local/lib/python3.10/dist-packages (from dash<3.0.0,>=2.11.0->plotly-resampler>=0.8.3.1->pycaret) (1.5.6)\n",
            "Requirement already satisfied: wrapt<2,>=1.10 in /usr/local/lib/python3.10/dist-packages (from deprecated>=1.2.13->sktime!=0.17.1,!=0.17.2,!=0.18.0,>=0.16.1->pycaret) (1.14.1)\n",
            "Requirement already satisfied: jupyter-client in /usr/local/lib/python3.10/dist-packages (from ipykernel>=4.5.1->ipywidgets>=7.6.5->pycaret) (6.1.12)\n",
            "Requirement already satisfied: tornado>=4.2 in /usr/local/lib/python3.10/dist-packages (from ipykernel>=4.5.1->ipywidgets>=7.6.5->pycaret) (6.3.1)\n",
            "Requirement already satisfied: parso<0.9.0,>=0.8.0 in /usr/local/lib/python3.10/dist-packages (from jedi>=0.16->ipython>=5.5.0->pycaret) (0.8.3)\n",
            "Requirement already satisfied: attrs>=17.4.0 in /usr/local/lib/python3.10/dist-packages (from jsonschema>=2.6->nbformat>=4.2.0->pycaret) (23.1.0)\n",
            "Requirement already satisfied: pyrsistent!=0.17.0,!=0.17.1,!=0.17.2,>=0.14.0 in /usr/local/lib/python3.10/dist-packages (from jsonschema>=2.6->nbformat>=4.2.0->pycaret) (0.19.3)\n",
            "Requirement already satisfied: ptyprocess>=0.5 in /usr/local/lib/python3.10/dist-packages (from pexpect>4.3->ipython>=5.5.0->pycaret) (0.7.0)\n",
            "Requirement already satisfied: wcwidth in /usr/local/lib/python3.10/dist-packages (from prompt-toolkit!=3.0.0,!=3.0.1,<3.1.0,>=2.0.0->ipython>=5.5.0->pycaret) (0.2.6)\n",
            "Requirement already satisfied: notebook>=4.4.1 in /usr/local/lib/python3.10/dist-packages (from widgetsnbextension~=3.6.0->ipywidgets>=7.6.5->pycaret) (6.4.8)\n",
            "Requirement already satisfied: platformdirs>=2.5 in /usr/local/lib/python3.10/dist-packages (from jupyter-core->nbformat>=4.2.0->pycaret) (3.8.1)\n",
            "Requirement already satisfied: itsdangerous>=2.0 in /usr/local/lib/python3.10/dist-packages (from Flask<2.3.0,>=1.0.4->dash<3.0.0,>=2.11.0->plotly-resampler>=0.8.3.1->pycaret) (2.1.2)\n",
            "Requirement already satisfied: click>=8.0 in /usr/local/lib/python3.10/dist-packages (from Flask<2.3.0,>=1.0.4->dash<3.0.0,>=2.11.0->plotly-resampler>=0.8.3.1->pycaret) (8.1.4)\n",
            "Requirement already satisfied: pyzmq>=17 in /usr/local/lib/python3.10/dist-packages (from notebook>=4.4.1->widgetsnbextension~=3.6.0->ipywidgets>=7.6.5->pycaret) (23.2.1)\n",
            "Requirement already satisfied: argon2-cffi in /usr/local/lib/python3.10/dist-packages (from notebook>=4.4.1->widgetsnbextension~=3.6.0->ipywidgets>=7.6.5->pycaret) (21.3.0)\n",
            "Requirement already satisfied: nbconvert in /usr/local/lib/python3.10/dist-packages (from notebook>=4.4.1->widgetsnbextension~=3.6.0->ipywidgets>=7.6.5->pycaret) (6.5.4)\n",
            "Requirement already satisfied: Send2Trash>=1.8.0 in /usr/local/lib/python3.10/dist-packages (from notebook>=4.4.1->widgetsnbextension~=3.6.0->ipywidgets>=7.6.5->pycaret) (1.8.2)\n",
            "Requirement already satisfied: terminado>=0.8.3 in /usr/local/lib/python3.10/dist-packages (from notebook>=4.4.1->widgetsnbextension~=3.6.0->ipywidgets>=7.6.5->pycaret) (0.17.1)\n",
            "Requirement already satisfied: prometheus-client in /usr/local/lib/python3.10/dist-packages (from notebook>=4.4.1->widgetsnbextension~=3.6.0->ipywidgets>=7.6.5->pycaret) (0.17.0)\n",
            "Requirement already satisfied: argon2-cffi-bindings in /usr/local/lib/python3.10/dist-packages (from argon2-cffi->notebook>=4.4.1->widgetsnbextension~=3.6.0->ipywidgets>=7.6.5->pycaret) (21.2.0)\n",
            "Requirement already satisfied: lxml in /usr/local/lib/python3.10/dist-packages (from nbconvert->notebook>=4.4.1->widgetsnbextension~=3.6.0->ipywidgets>=7.6.5->pycaret) (4.9.3)\n",
            "Requirement already satisfied: beautifulsoup4 in /usr/local/lib/python3.10/dist-packages (from nbconvert->notebook>=4.4.1->widgetsnbextension~=3.6.0->ipywidgets>=7.6.5->pycaret) (4.11.2)\n",
            "Requirement already satisfied: bleach in /usr/local/lib/python3.10/dist-packages (from nbconvert->notebook>=4.4.1->widgetsnbextension~=3.6.0->ipywidgets>=7.6.5->pycaret) (6.0.0)\n",
            "Requirement already satisfied: defusedxml in /usr/local/lib/python3.10/dist-packages (from nbconvert->notebook>=4.4.1->widgetsnbextension~=3.6.0->ipywidgets>=7.6.5->pycaret) (0.7.1)\n",
            "Requirement already satisfied: entrypoints>=0.2.2 in /usr/local/lib/python3.10/dist-packages (from nbconvert->notebook>=4.4.1->widgetsnbextension~=3.6.0->ipywidgets>=7.6.5->pycaret) (0.4)\n",
            "Requirement already satisfied: jupyterlab-pygments in /usr/local/lib/python3.10/dist-packages (from nbconvert->notebook>=4.4.1->widgetsnbextension~=3.6.0->ipywidgets>=7.6.5->pycaret) (0.2.2)\n",
            "Requirement already satisfied: mistune<2,>=0.8.1 in /usr/local/lib/python3.10/dist-packages (from nbconvert->notebook>=4.4.1->widgetsnbextension~=3.6.0->ipywidgets>=7.6.5->pycaret) (0.8.4)\n",
            "Requirement already satisfied: nbclient>=0.5.0 in /usr/local/lib/python3.10/dist-packages (from nbconvert->notebook>=4.4.1->widgetsnbextension~=3.6.0->ipywidgets>=7.6.5->pycaret) (0.8.0)\n",
            "Requirement already satisfied: pandocfilters>=1.4.1 in /usr/local/lib/python3.10/dist-packages (from nbconvert->notebook>=4.4.1->widgetsnbextension~=3.6.0->ipywidgets>=7.6.5->pycaret) (1.5.0)\n",
            "Requirement already satisfied: tinycss2 in /usr/local/lib/python3.10/dist-packages (from nbconvert->notebook>=4.4.1->widgetsnbextension~=3.6.0->ipywidgets>=7.6.5->pycaret) (1.2.1)\n",
            "Requirement already satisfied: cffi>=1.0.1 in /usr/local/lib/python3.10/dist-packages (from argon2-cffi-bindings->argon2-cffi->notebook>=4.4.1->widgetsnbextension~=3.6.0->ipywidgets>=7.6.5->pycaret) (1.15.1)\n",
            "Requirement already satisfied: soupsieve>1.2 in /usr/local/lib/python3.10/dist-packages (from beautifulsoup4->nbconvert->notebook>=4.4.1->widgetsnbextension~=3.6.0->ipywidgets>=7.6.5->pycaret) (2.4.1)\n",
            "Requirement already satisfied: webencodings in /usr/local/lib/python3.10/dist-packages (from bleach->nbconvert->notebook>=4.4.1->widgetsnbextension~=3.6.0->ipywidgets>=7.6.5->pycaret) (0.5.1)\n",
            "Requirement already satisfied: pycparser in /usr/local/lib/python3.10/dist-packages (from cffi>=1.0.1->argon2-cffi-bindings->argon2-cffi->notebook>=4.4.1->widgetsnbextension~=3.6.0->ipywidgets>=7.6.5->pycaret) (2.21)\n",
            "Building wheels for collected packages: pyod\n",
            "  Building wheel for pyod (setup.py) ... \u001b[?25l\u001b[?25hdone\n",
            "  Created wheel for pyod: filename=pyod-1.1.0-py3-none-any.whl size=185331 sha256=155b07392ea93c734b6df07b467bcf1abcf5d2c1664cd7a1b223a6046b4fa727\n",
            "  Stored in directory: /root/.cache/pip/wheels/36/8e/e2/e932956b10b843eb6be9eefa70b5c1bee7b561be14c423b136\n",
            "Successfully built pyod\n",
            "Installing collected packages: trace-updater, kaleido, dash-table, dash-html-components, dash-core-components, xxhash, wurlitzer, Werkzeug, tsdownsample, scikit-base, schemdraw, retrying, orjson, jedi, importlib-metadata, deprecation, deprecated, ansi2html, sktime, scikit-plot, pyod, dash, pmdarima, plotly-resampler, category-encoders, tbats, pycaret\n",
            "  Attempting uninstall: Werkzeug\n",
            "    Found existing installation: Werkzeug 2.3.6\n",
            "    Uninstalling Werkzeug-2.3.6:\n",
            "      Successfully uninstalled Werkzeug-2.3.6\n",
            "Successfully installed Werkzeug-2.2.3 ansi2html-1.8.0 category-encoders-2.6.1 dash-2.11.1 dash-core-components-2.0.0 dash-html-components-2.0.0 dash-table-5.0.0 deprecated-1.2.14 deprecation-2.1.0 importlib-metadata-6.8.0 jedi-0.18.2 kaleido-0.2.1 orjson-3.9.2 plotly-resampler-0.9.0 pmdarima-2.0.3 pycaret-3.0.4 pyod-1.1.0 retrying-1.3.4 schemdraw-0.15 scikit-base-0.5.0 scikit-plot-0.3.7 sktime-0.20.0 tbats-1.1.3 trace-updater-0.0.9.1 tsdownsample-0.1.2 wurlitzer-3.0.3 xxhash-3.2.0\n"
          ]
        }
      ],
      "source": [
        "!pip install pycaret"
      ]
    },
    {
      "cell_type": "code",
      "execution_count": 39,
      "metadata": {
        "id": "Am__7pr3c0eq"
      },
      "outputs": [],
      "source": [
        "from pycaret.regression import *\n",
        "import pandas as pd"
      ]
    },
    {
      "cell_type": "code",
      "execution_count": 40,
      "metadata": {
        "id": "ZNATzChSdn9E"
      },
      "outputs": [],
      "source": [
        "data = pd.read_csv('train.csv')"
      ]
    },
    {
      "cell_type": "code",
      "execution_count": 41,
      "metadata": {
        "id": "Rf2aTA5odV2X"
      },
      "outputs": [],
      "source": [
        "#new = data.drop(['Timestamp', 'Clearsky DHI', 'Clearsky GHI'], axis=1)"
      ]
    },
    {
      "cell_type": "code",
      "source": [
        "new1 = data.drop(['Timestamp', 'Clearsky DHI'], axis=1)"
      ],
      "metadata": {
        "id": "0fEqybfki8z_"
      },
      "execution_count": 44,
      "outputs": []
    },
    {
      "cell_type": "code",
      "source": [
        "new1.dropna(subset = ['Clearsky GHI'], inplace=True)"
      ],
      "metadata": {
        "id": "457lAyQpjSnF"
      },
      "execution_count": 46,
      "outputs": []
    },
    {
      "cell_type": "code",
      "execution_count": 47,
      "metadata": {
        "colab": {
          "base_uri": "https://localhost:8080/",
          "height": 645
        },
        "id": "9gyPGwGodCXV",
        "outputId": "40669308-e5f5-487c-9eab-e78040f00dac"
      },
      "outputs": [
        {
          "output_type": "display_data",
          "data": {
            "text/plain": [
              "<pandas.io.formats.style.Styler at 0x7fc5ad8e7a30>"
            ],
            "text/html": [
              "<style type=\"text/css\">\n",
              "#T_24b3b_row8_col1 {\n",
              "  background-color: lightgreen;\n",
              "}\n",
              "</style>\n",
              "<table id=\"T_24b3b\" class=\"dataframe\">\n",
              "  <thead>\n",
              "    <tr>\n",
              "      <th class=\"blank level0\" >&nbsp;</th>\n",
              "      <th id=\"T_24b3b_level0_col0\" class=\"col_heading level0 col0\" >Description</th>\n",
              "      <th id=\"T_24b3b_level0_col1\" class=\"col_heading level0 col1\" >Value</th>\n",
              "    </tr>\n",
              "  </thead>\n",
              "  <tbody>\n",
              "    <tr>\n",
              "      <th id=\"T_24b3b_level0_row0\" class=\"row_heading level0 row0\" >0</th>\n",
              "      <td id=\"T_24b3b_row0_col0\" class=\"data row0 col0\" >Session id</td>\n",
              "      <td id=\"T_24b3b_row0_col1\" class=\"data row0 col1\" >123</td>\n",
              "    </tr>\n",
              "    <tr>\n",
              "      <th id=\"T_24b3b_level0_row1\" class=\"row_heading level0 row1\" >1</th>\n",
              "      <td id=\"T_24b3b_row1_col0\" class=\"data row1 col0\" >Target</td>\n",
              "      <td id=\"T_24b3b_row1_col1\" class=\"data row1 col1\" >Clearsky GHI</td>\n",
              "    </tr>\n",
              "    <tr>\n",
              "      <th id=\"T_24b3b_level0_row2\" class=\"row_heading level0 row2\" >2</th>\n",
              "      <td id=\"T_24b3b_row2_col0\" class=\"data row2 col0\" >Target type</td>\n",
              "      <td id=\"T_24b3b_row2_col1\" class=\"data row2 col1\" >Regression</td>\n",
              "    </tr>\n",
              "    <tr>\n",
              "      <th id=\"T_24b3b_level0_row3\" class=\"row_heading level0 row3\" >3</th>\n",
              "      <td id=\"T_24b3b_row3_col0\" class=\"data row3 col0\" >Original data shape</td>\n",
              "      <td id=\"T_24b3b_row3_col1\" class=\"data row3 col1\" >(51532, 14)</td>\n",
              "    </tr>\n",
              "    <tr>\n",
              "      <th id=\"T_24b3b_level0_row4\" class=\"row_heading level0 row4\" >4</th>\n",
              "      <td id=\"T_24b3b_row4_col0\" class=\"data row4 col0\" >Transformed data shape</td>\n",
              "      <td id=\"T_24b3b_row4_col1\" class=\"data row4 col1\" >(51532, 14)</td>\n",
              "    </tr>\n",
              "    <tr>\n",
              "      <th id=\"T_24b3b_level0_row5\" class=\"row_heading level0 row5\" >5</th>\n",
              "      <td id=\"T_24b3b_row5_col0\" class=\"data row5 col0\" >Transformed train set shape</td>\n",
              "      <td id=\"T_24b3b_row5_col1\" class=\"data row5 col1\" >(36072, 14)</td>\n",
              "    </tr>\n",
              "    <tr>\n",
              "      <th id=\"T_24b3b_level0_row6\" class=\"row_heading level0 row6\" >6</th>\n",
              "      <td id=\"T_24b3b_row6_col0\" class=\"data row6 col0\" >Transformed test set shape</td>\n",
              "      <td id=\"T_24b3b_row6_col1\" class=\"data row6 col1\" >(15460, 14)</td>\n",
              "    </tr>\n",
              "    <tr>\n",
              "      <th id=\"T_24b3b_level0_row7\" class=\"row_heading level0 row7\" >7</th>\n",
              "      <td id=\"T_24b3b_row7_col0\" class=\"data row7 col0\" >Numeric features</td>\n",
              "      <td id=\"T_24b3b_row7_col1\" class=\"data row7 col1\" >13</td>\n",
              "    </tr>\n",
              "    <tr>\n",
              "      <th id=\"T_24b3b_level0_row8\" class=\"row_heading level0 row8\" >8</th>\n",
              "      <td id=\"T_24b3b_row8_col0\" class=\"data row8 col0\" >Preprocess</td>\n",
              "      <td id=\"T_24b3b_row8_col1\" class=\"data row8 col1\" >True</td>\n",
              "    </tr>\n",
              "    <tr>\n",
              "      <th id=\"T_24b3b_level0_row9\" class=\"row_heading level0 row9\" >9</th>\n",
              "      <td id=\"T_24b3b_row9_col0\" class=\"data row9 col0\" >Imputation type</td>\n",
              "      <td id=\"T_24b3b_row9_col1\" class=\"data row9 col1\" >simple</td>\n",
              "    </tr>\n",
              "    <tr>\n",
              "      <th id=\"T_24b3b_level0_row10\" class=\"row_heading level0 row10\" >10</th>\n",
              "      <td id=\"T_24b3b_row10_col0\" class=\"data row10 col0\" >Numeric imputation</td>\n",
              "      <td id=\"T_24b3b_row10_col1\" class=\"data row10 col1\" >mean</td>\n",
              "    </tr>\n",
              "    <tr>\n",
              "      <th id=\"T_24b3b_level0_row11\" class=\"row_heading level0 row11\" >11</th>\n",
              "      <td id=\"T_24b3b_row11_col0\" class=\"data row11 col0\" >Categorical imputation</td>\n",
              "      <td id=\"T_24b3b_row11_col1\" class=\"data row11 col1\" >mode</td>\n",
              "    </tr>\n",
              "    <tr>\n",
              "      <th id=\"T_24b3b_level0_row12\" class=\"row_heading level0 row12\" >12</th>\n",
              "      <td id=\"T_24b3b_row12_col0\" class=\"data row12 col0\" >Fold Generator</td>\n",
              "      <td id=\"T_24b3b_row12_col1\" class=\"data row12 col1\" >KFold</td>\n",
              "    </tr>\n",
              "    <tr>\n",
              "      <th id=\"T_24b3b_level0_row13\" class=\"row_heading level0 row13\" >13</th>\n",
              "      <td id=\"T_24b3b_row13_col0\" class=\"data row13 col0\" >Fold Number</td>\n",
              "      <td id=\"T_24b3b_row13_col1\" class=\"data row13 col1\" >10</td>\n",
              "    </tr>\n",
              "    <tr>\n",
              "      <th id=\"T_24b3b_level0_row14\" class=\"row_heading level0 row14\" >14</th>\n",
              "      <td id=\"T_24b3b_row14_col0\" class=\"data row14 col0\" >CPU Jobs</td>\n",
              "      <td id=\"T_24b3b_row14_col1\" class=\"data row14 col1\" >-1</td>\n",
              "    </tr>\n",
              "    <tr>\n",
              "      <th id=\"T_24b3b_level0_row15\" class=\"row_heading level0 row15\" >15</th>\n",
              "      <td id=\"T_24b3b_row15_col0\" class=\"data row15 col0\" >Use GPU</td>\n",
              "      <td id=\"T_24b3b_row15_col1\" class=\"data row15 col1\" >False</td>\n",
              "    </tr>\n",
              "    <tr>\n",
              "      <th id=\"T_24b3b_level0_row16\" class=\"row_heading level0 row16\" >16</th>\n",
              "      <td id=\"T_24b3b_row16_col0\" class=\"data row16 col0\" >Log Experiment</td>\n",
              "      <td id=\"T_24b3b_row16_col1\" class=\"data row16 col1\" >False</td>\n",
              "    </tr>\n",
              "    <tr>\n",
              "      <th id=\"T_24b3b_level0_row17\" class=\"row_heading level0 row17\" >17</th>\n",
              "      <td id=\"T_24b3b_row17_col0\" class=\"data row17 col0\" >Experiment Name</td>\n",
              "      <td id=\"T_24b3b_row17_col1\" class=\"data row17 col1\" >reg-default-name</td>\n",
              "    </tr>\n",
              "    <tr>\n",
              "      <th id=\"T_24b3b_level0_row18\" class=\"row_heading level0 row18\" >18</th>\n",
              "      <td id=\"T_24b3b_row18_col0\" class=\"data row18 col0\" >USI</td>\n",
              "      <td id=\"T_24b3b_row18_col1\" class=\"data row18 col1\" >51ca</td>\n",
              "    </tr>\n",
              "  </tbody>\n",
              "</table>\n"
            ]
          },
          "metadata": {}
        }
      ],
      "source": [
        "s = setup(new1, target='Clearsky GHI', session_id=123)"
      ]
    },
    {
      "cell_type": "code",
      "execution_count": 48,
      "metadata": {
        "colab": {
          "base_uri": "https://localhost:8080/",
          "height": 645,
          "referenced_widgets": [
            "1e8d4c7bee19433592b8197a99599276",
            "e36e3cfc1d76462da5d1f2014ff2f386",
            "b17b7c104c6f4d4ab9c8152a18339a76",
            "79d9a7b022094cad8c6a3919cde44f47",
            "1ae6333059124e12952655029454f5ec",
            "f07055863e7248cfa1a0d29e9fb44c33",
            "66dbee15b2e649e7aefbe607b215dfa0",
            "98364fae5fda4f5cb7b94b71916dcced",
            "b727d9aaadd54cb393f33ff6dff96c7d",
            "08016d19db9e48aebd2b24d9a8a5fddf",
            "b5385013f5df429c9ab9741c295a1477"
          ]
        },
        "id": "xgyq4WoidOn_",
        "outputId": "262b3eca-b0e7-4d8e-c1a4-4adb4d836a80"
      },
      "outputs": [
        {
          "output_type": "display_data",
          "data": {
            "text/plain": [
              "<IPython.core.display.HTML object>"
            ],
            "text/html": []
          },
          "metadata": {}
        },
        {
          "output_type": "display_data",
          "data": {
            "text/plain": [
              "<pandas.io.formats.style.Styler at 0x7fc5b5f68160>"
            ],
            "text/html": [
              "<style type=\"text/css\">\n",
              "#T_8dba2 th {\n",
              "  text-align: left;\n",
              "}\n",
              "#T_8dba2_row0_col0, #T_8dba2_row0_col1, #T_8dba2_row0_col2, #T_8dba2_row0_col3, #T_8dba2_row0_col5, #T_8dba2_row0_col6, #T_8dba2_row1_col0, #T_8dba2_row2_col0, #T_8dba2_row2_col1, #T_8dba2_row2_col2, #T_8dba2_row2_col3, #T_8dba2_row2_col5, #T_8dba2_row2_col6, #T_8dba2_row3_col0, #T_8dba2_row3_col1, #T_8dba2_row3_col2, #T_8dba2_row3_col3, #T_8dba2_row3_col5, #T_8dba2_row3_col6, #T_8dba2_row4_col0, #T_8dba2_row4_col1, #T_8dba2_row4_col2, #T_8dba2_row4_col3, #T_8dba2_row4_col4, #T_8dba2_row4_col5, #T_8dba2_row4_col6, #T_8dba2_row5_col0, #T_8dba2_row5_col1, #T_8dba2_row5_col2, #T_8dba2_row5_col3, #T_8dba2_row5_col4, #T_8dba2_row5_col5, #T_8dba2_row5_col6, #T_8dba2_row6_col0, #T_8dba2_row6_col1, #T_8dba2_row6_col2, #T_8dba2_row6_col3, #T_8dba2_row6_col4, #T_8dba2_row6_col5, #T_8dba2_row6_col6, #T_8dba2_row7_col0, #T_8dba2_row7_col1, #T_8dba2_row7_col2, #T_8dba2_row7_col3, #T_8dba2_row7_col4, #T_8dba2_row7_col5, #T_8dba2_row7_col6, #T_8dba2_row8_col0, #T_8dba2_row8_col1, #T_8dba2_row8_col2, #T_8dba2_row8_col3, #T_8dba2_row8_col4, #T_8dba2_row8_col5, #T_8dba2_row8_col6, #T_8dba2_row9_col0, #T_8dba2_row9_col1, #T_8dba2_row9_col2, #T_8dba2_row9_col3, #T_8dba2_row9_col4, #T_8dba2_row9_col5, #T_8dba2_row9_col6, #T_8dba2_row10_col0, #T_8dba2_row10_col1, #T_8dba2_row10_col2, #T_8dba2_row10_col3, #T_8dba2_row10_col4, #T_8dba2_row10_col5, #T_8dba2_row10_col6, #T_8dba2_row11_col0, #T_8dba2_row11_col1, #T_8dba2_row11_col2, #T_8dba2_row11_col3, #T_8dba2_row11_col4, #T_8dba2_row11_col5, #T_8dba2_row11_col6, #T_8dba2_row12_col0, #T_8dba2_row12_col1, #T_8dba2_row12_col2, #T_8dba2_row12_col3, #T_8dba2_row12_col4, #T_8dba2_row12_col5, #T_8dba2_row12_col6, #T_8dba2_row13_col0, #T_8dba2_row13_col1, #T_8dba2_row13_col2, #T_8dba2_row13_col3, #T_8dba2_row13_col4, #T_8dba2_row13_col5, #T_8dba2_row13_col6, #T_8dba2_row14_col0, #T_8dba2_row14_col1, #T_8dba2_row14_col2, #T_8dba2_row14_col3, #T_8dba2_row14_col4, #T_8dba2_row14_col5, #T_8dba2_row14_col6, #T_8dba2_row15_col0, #T_8dba2_row15_col1, #T_8dba2_row15_col2, #T_8dba2_row15_col3, #T_8dba2_row15_col4, #T_8dba2_row15_col5, #T_8dba2_row15_col6, #T_8dba2_row16_col0, #T_8dba2_row16_col1, #T_8dba2_row16_col2, #T_8dba2_row16_col3, #T_8dba2_row16_col4, #T_8dba2_row16_col5, #T_8dba2_row16_col6, #T_8dba2_row17_col0, #T_8dba2_row17_col1, #T_8dba2_row17_col2, #T_8dba2_row17_col3, #T_8dba2_row17_col4, #T_8dba2_row17_col5, #T_8dba2_row17_col6, #T_8dba2_row18_col0, #T_8dba2_row18_col1, #T_8dba2_row18_col2, #T_8dba2_row18_col3, #T_8dba2_row18_col4, #T_8dba2_row18_col5, #T_8dba2_row18_col6 {\n",
              "  text-align: left;\n",
              "}\n",
              "#T_8dba2_row0_col4, #T_8dba2_row1_col1, #T_8dba2_row1_col2, #T_8dba2_row1_col3, #T_8dba2_row1_col4, #T_8dba2_row1_col5, #T_8dba2_row1_col6, #T_8dba2_row2_col4, #T_8dba2_row3_col4 {\n",
              "  text-align: left;\n",
              "  background-color: yellow;\n",
              "}\n",
              "#T_8dba2_row0_col7, #T_8dba2_row1_col7, #T_8dba2_row2_col7, #T_8dba2_row3_col7, #T_8dba2_row4_col7, #T_8dba2_row5_col7, #T_8dba2_row6_col7, #T_8dba2_row7_col7, #T_8dba2_row8_col7, #T_8dba2_row9_col7, #T_8dba2_row10_col7, #T_8dba2_row11_col7, #T_8dba2_row12_col7, #T_8dba2_row13_col7, #T_8dba2_row14_col7, #T_8dba2_row15_col7, #T_8dba2_row17_col7, #T_8dba2_row18_col7 {\n",
              "  text-align: left;\n",
              "  background-color: lightgrey;\n",
              "}\n",
              "#T_8dba2_row16_col7 {\n",
              "  text-align: left;\n",
              "  background-color: yellow;\n",
              "  background-color: lightgrey;\n",
              "}\n",
              "</style>\n",
              "<table id=\"T_8dba2\" class=\"dataframe\">\n",
              "  <thead>\n",
              "    <tr>\n",
              "      <th class=\"blank level0\" >&nbsp;</th>\n",
              "      <th id=\"T_8dba2_level0_col0\" class=\"col_heading level0 col0\" >Model</th>\n",
              "      <th id=\"T_8dba2_level0_col1\" class=\"col_heading level0 col1\" >MAE</th>\n",
              "      <th id=\"T_8dba2_level0_col2\" class=\"col_heading level0 col2\" >MSE</th>\n",
              "      <th id=\"T_8dba2_level0_col3\" class=\"col_heading level0 col3\" >RMSE</th>\n",
              "      <th id=\"T_8dba2_level0_col4\" class=\"col_heading level0 col4\" >R2</th>\n",
              "      <th id=\"T_8dba2_level0_col5\" class=\"col_heading level0 col5\" >RMSLE</th>\n",
              "      <th id=\"T_8dba2_level0_col6\" class=\"col_heading level0 col6\" >MAPE</th>\n",
              "      <th id=\"T_8dba2_level0_col7\" class=\"col_heading level0 col7\" >TT (Sec)</th>\n",
              "    </tr>\n",
              "  </thead>\n",
              "  <tbody>\n",
              "    <tr>\n",
              "      <th id=\"T_8dba2_level0_row0\" class=\"row_heading level0 row0\" >rf</th>\n",
              "      <td id=\"T_8dba2_row0_col0\" class=\"data row0 col0\" >Random Forest Regressor</td>\n",
              "      <td id=\"T_8dba2_row0_col1\" class=\"data row0 col1\" >1.8389</td>\n",
              "      <td id=\"T_8dba2_row0_col2\" class=\"data row0 col2\" >13.2087</td>\n",
              "      <td id=\"T_8dba2_row0_col3\" class=\"data row0 col3\" >3.6337</td>\n",
              "      <td id=\"T_8dba2_row0_col4\" class=\"data row0 col4\" >0.9999</td>\n",
              "      <td id=\"T_8dba2_row0_col5\" class=\"data row0 col5\" >0.0300</td>\n",
              "      <td id=\"T_8dba2_row0_col6\" class=\"data row0 col6\" >0.0179</td>\n",
              "      <td id=\"T_8dba2_row0_col7\" class=\"data row0 col7\" >15.2820</td>\n",
              "    </tr>\n",
              "    <tr>\n",
              "      <th id=\"T_8dba2_level0_row1\" class=\"row_heading level0 row1\" >et</th>\n",
              "      <td id=\"T_8dba2_row1_col0\" class=\"data row1 col0\" >Extra Trees Regressor</td>\n",
              "      <td id=\"T_8dba2_row1_col1\" class=\"data row1 col1\" >1.3669</td>\n",
              "      <td id=\"T_8dba2_row1_col2\" class=\"data row1 col2\" >7.3216</td>\n",
              "      <td id=\"T_8dba2_row1_col3\" class=\"data row1 col3\" >2.7045</td>\n",
              "      <td id=\"T_8dba2_row1_col4\" class=\"data row1 col4\" >0.9999</td>\n",
              "      <td id=\"T_8dba2_row1_col5\" class=\"data row1 col5\" >0.0288</td>\n",
              "      <td id=\"T_8dba2_row1_col6\" class=\"data row1 col6\" >0.0151</td>\n",
              "      <td id=\"T_8dba2_row1_col7\" class=\"data row1 col7\" >7.3700</td>\n",
              "    </tr>\n",
              "    <tr>\n",
              "      <th id=\"T_8dba2_level0_row2\" class=\"row_heading level0 row2\" >lightgbm</th>\n",
              "      <td id=\"T_8dba2_row2_col0\" class=\"data row2 col0\" >Light Gradient Boosting Machine</td>\n",
              "      <td id=\"T_8dba2_row2_col1\" class=\"data row2 col1\" >1.8455</td>\n",
              "      <td id=\"T_8dba2_row2_col2\" class=\"data row2 col2\" >11.2896</td>\n",
              "      <td id=\"T_8dba2_row2_col3\" class=\"data row2 col3\" >3.3595</td>\n",
              "      <td id=\"T_8dba2_row2_col4\" class=\"data row2 col4\" >0.9999</td>\n",
              "      <td id=\"T_8dba2_row2_col5\" class=\"data row2 col5\" >0.0514</td>\n",
              "      <td id=\"T_8dba2_row2_col6\" class=\"data row2 col6\" >0.0216</td>\n",
              "      <td id=\"T_8dba2_row2_col7\" class=\"data row2 col7\" >0.7820</td>\n",
              "    </tr>\n",
              "    <tr>\n",
              "      <th id=\"T_8dba2_level0_row3\" class=\"row_heading level0 row3\" >xgboost</th>\n",
              "      <td id=\"T_8dba2_row3_col0\" class=\"data row3 col0\" >Extreme Gradient Boosting</td>\n",
              "      <td id=\"T_8dba2_row3_col1\" class=\"data row3 col1\" >1.9376</td>\n",
              "      <td id=\"T_8dba2_row3_col2\" class=\"data row3 col2\" >12.5970</td>\n",
              "      <td id=\"T_8dba2_row3_col3\" class=\"data row3 col3\" >3.5483</td>\n",
              "      <td id=\"T_8dba2_row3_col4\" class=\"data row3 col4\" >0.9999</td>\n",
              "      <td id=\"T_8dba2_row3_col5\" class=\"data row3 col5\" >0.1009</td>\n",
              "      <td id=\"T_8dba2_row3_col6\" class=\"data row3 col6\" >0.0203</td>\n",
              "      <td id=\"T_8dba2_row3_col7\" class=\"data row3 col7\" >3.8920</td>\n",
              "    </tr>\n",
              "    <tr>\n",
              "      <th id=\"T_8dba2_level0_row4\" class=\"row_heading level0 row4\" >gbr</th>\n",
              "      <td id=\"T_8dba2_row4_col0\" class=\"data row4 col0\" >Gradient Boosting Regressor</td>\n",
              "      <td id=\"T_8dba2_row4_col1\" class=\"data row4 col1\" >2.9391</td>\n",
              "      <td id=\"T_8dba2_row4_col2\" class=\"data row4 col2\" >26.6864</td>\n",
              "      <td id=\"T_8dba2_row4_col3\" class=\"data row4 col3\" >5.1647</td>\n",
              "      <td id=\"T_8dba2_row4_col4\" class=\"data row4 col4\" >0.9997</td>\n",
              "      <td id=\"T_8dba2_row4_col5\" class=\"data row4 col5\" >0.2441</td>\n",
              "      <td id=\"T_8dba2_row4_col6\" class=\"data row4 col6\" >0.0301</td>\n",
              "      <td id=\"T_8dba2_row4_col7\" class=\"data row4 col7\" >6.0860</td>\n",
              "    </tr>\n",
              "    <tr>\n",
              "      <th id=\"T_8dba2_level0_row5\" class=\"row_heading level0 row5\" >dt</th>\n",
              "      <td id=\"T_8dba2_row5_col0\" class=\"data row5 col0\" >Decision Tree Regressor</td>\n",
              "      <td id=\"T_8dba2_row5_col1\" class=\"data row5 col1\" >3.1846</td>\n",
              "      <td id=\"T_8dba2_row5_col2\" class=\"data row5 col2\" >39.9136</td>\n",
              "      <td id=\"T_8dba2_row5_col3\" class=\"data row5 col3\" >6.3149</td>\n",
              "      <td id=\"T_8dba2_row5_col4\" class=\"data row5 col4\" >0.9996</td>\n",
              "      <td id=\"T_8dba2_row5_col5\" class=\"data row5 col5\" >0.0418</td>\n",
              "      <td id=\"T_8dba2_row5_col6\" class=\"data row5 col6\" >0.0275</td>\n",
              "      <td id=\"T_8dba2_row5_col7\" class=\"data row5 col7\" >0.3070</td>\n",
              "    </tr>\n",
              "    <tr>\n",
              "      <th id=\"T_8dba2_level0_row6\" class=\"row_heading level0 row6\" >ada</th>\n",
              "      <td id=\"T_8dba2_row6_col0\" class=\"data row6 col0\" >AdaBoost Regressor</td>\n",
              "      <td id=\"T_8dba2_row6_col1\" class=\"data row6 col1\" >25.1632</td>\n",
              "      <td id=\"T_8dba2_row6_col2\" class=\"data row6 col2\" >764.5228</td>\n",
              "      <td id=\"T_8dba2_row6_col3\" class=\"data row6 col3\" >27.5888</td>\n",
              "      <td id=\"T_8dba2_row6_col4\" class=\"data row6 col4\" >0.9927</td>\n",
              "      <td id=\"T_8dba2_row6_col5\" class=\"data row6 col5\" >2.4304</td>\n",
              "      <td id=\"T_8dba2_row6_col6\" class=\"data row6 col6\" >0.1992</td>\n",
              "      <td id=\"T_8dba2_row6_col7\" class=\"data row6 col7\" >3.0910</td>\n",
              "    </tr>\n",
              "    <tr>\n",
              "      <th id=\"T_8dba2_level0_row7\" class=\"row_heading level0 row7\" >knn</th>\n",
              "      <td id=\"T_8dba2_row7_col0\" class=\"data row7 col0\" >K Neighbors Regressor</td>\n",
              "      <td id=\"T_8dba2_row7_col1\" class=\"data row7 col1\" >15.4349</td>\n",
              "      <td id=\"T_8dba2_row7_col2\" class=\"data row7 col2\" >1011.5110</td>\n",
              "      <td id=\"T_8dba2_row7_col3\" class=\"data row7 col3\" >31.7955</td>\n",
              "      <td id=\"T_8dba2_row7_col4\" class=\"data row7 col4\" >0.9904</td>\n",
              "      <td id=\"T_8dba2_row7_col5\" class=\"data row7 col5\" >0.1921</td>\n",
              "      <td id=\"T_8dba2_row7_col6\" class=\"data row7 col6\" >0.1393</td>\n",
              "      <td id=\"T_8dba2_row7_col7\" class=\"data row7 col7\" >0.2850</td>\n",
              "    </tr>\n",
              "    <tr>\n",
              "      <th id=\"T_8dba2_level0_row8\" class=\"row_heading level0 row8\" >br</th>\n",
              "      <td id=\"T_8dba2_row8_col0\" class=\"data row8 col0\" >Bayesian Ridge</td>\n",
              "      <td id=\"T_8dba2_row8_col1\" class=\"data row8 col1\" >66.1688</td>\n",
              "      <td id=\"T_8dba2_row8_col2\" class=\"data row8 col2\" >7655.9144</td>\n",
              "      <td id=\"T_8dba2_row8_col3\" class=\"data row8 col3\" >87.4911</td>\n",
              "      <td id=\"T_8dba2_row8_col4\" class=\"data row8 col4\" >0.9275</td>\n",
              "      <td id=\"T_8dba2_row8_col5\" class=\"data row8 col5\" >2.5208</td>\n",
              "      <td id=\"T_8dba2_row8_col6\" class=\"data row8 col6\" >0.5915</td>\n",
              "      <td id=\"T_8dba2_row8_col7\" class=\"data row8 col7\" >0.0970</td>\n",
              "    </tr>\n",
              "    <tr>\n",
              "      <th id=\"T_8dba2_level0_row9\" class=\"row_heading level0 row9\" >ridge</th>\n",
              "      <td id=\"T_8dba2_row9_col0\" class=\"data row9 col0\" >Ridge Regression</td>\n",
              "      <td id=\"T_8dba2_row9_col1\" class=\"data row9 col1\" >66.1448</td>\n",
              "      <td id=\"T_8dba2_row9_col2\" class=\"data row9 col2\" >7656.8937</td>\n",
              "      <td id=\"T_8dba2_row9_col3\" class=\"data row9 col3\" >87.4967</td>\n",
              "      <td id=\"T_8dba2_row9_col4\" class=\"data row9 col4\" >0.9275</td>\n",
              "      <td id=\"T_8dba2_row9_col5\" class=\"data row9 col5\" >2.5196</td>\n",
              "      <td id=\"T_8dba2_row9_col6\" class=\"data row9 col6\" >0.5911</td>\n",
              "      <td id=\"T_8dba2_row9_col7\" class=\"data row9 col7\" >0.1070</td>\n",
              "    </tr>\n",
              "    <tr>\n",
              "      <th id=\"T_8dba2_level0_row10\" class=\"row_heading level0 row10\" >lr</th>\n",
              "      <td id=\"T_8dba2_row10_col0\" class=\"data row10 col0\" >Linear Regression</td>\n",
              "      <td id=\"T_8dba2_row10_col1\" class=\"data row10 col1\" >66.1858</td>\n",
              "      <td id=\"T_8dba2_row10_col2\" class=\"data row10 col2\" >7655.7107</td>\n",
              "      <td id=\"T_8dba2_row10_col3\" class=\"data row10 col3\" >87.4899</td>\n",
              "      <td id=\"T_8dba2_row10_col4\" class=\"data row10 col4\" >0.9275</td>\n",
              "      <td id=\"T_8dba2_row10_col5\" class=\"data row10 col5\" >2.5216</td>\n",
              "      <td id=\"T_8dba2_row10_col6\" class=\"data row10 col6\" >0.5918</td>\n",
              "      <td id=\"T_8dba2_row10_col7\" class=\"data row10 col7\" >0.5240</td>\n",
              "    </tr>\n",
              "    <tr>\n",
              "      <th id=\"T_8dba2_level0_row11\" class=\"row_heading level0 row11\" >lar</th>\n",
              "      <td id=\"T_8dba2_row11_col0\" class=\"data row11 col0\" >Least Angle Regression</td>\n",
              "      <td id=\"T_8dba2_row11_col1\" class=\"data row11 col1\" >66.7004</td>\n",
              "      <td id=\"T_8dba2_row11_col2\" class=\"data row11 col2\" >7711.2871</td>\n",
              "      <td id=\"T_8dba2_row11_col3\" class=\"data row11 col3\" >87.8086</td>\n",
              "      <td id=\"T_8dba2_row11_col4\" class=\"data row11 col4\" >0.9270</td>\n",
              "      <td id=\"T_8dba2_row11_col5\" class=\"data row11 col5\" >2.5412</td>\n",
              "      <td id=\"T_8dba2_row11_col6\" class=\"data row11 col6\" >0.6041</td>\n",
              "      <td id=\"T_8dba2_row11_col7\" class=\"data row11 col7\" >0.1070</td>\n",
              "    </tr>\n",
              "    <tr>\n",
              "      <th id=\"T_8dba2_level0_row12\" class=\"row_heading level0 row12\" >lasso</th>\n",
              "      <td id=\"T_8dba2_row12_col0\" class=\"data row12 col0\" >Lasso Regression</td>\n",
              "      <td id=\"T_8dba2_row12_col1\" class=\"data row12 col1\" >66.0698</td>\n",
              "      <td id=\"T_8dba2_row12_col2\" class=\"data row12 col2\" >7715.6942</td>\n",
              "      <td id=\"T_8dba2_row12_col3\" class=\"data row12 col3\" >87.8315</td>\n",
              "      <td id=\"T_8dba2_row12_col4\" class=\"data row12 col4\" >0.9269</td>\n",
              "      <td id=\"T_8dba2_row12_col5\" class=\"data row12 col5\" >2.5042</td>\n",
              "      <td id=\"T_8dba2_row12_col6\" class=\"data row12 col6\" >0.5902</td>\n",
              "      <td id=\"T_8dba2_row12_col7\" class=\"data row12 col7\" >0.1330</td>\n",
              "    </tr>\n",
              "    <tr>\n",
              "      <th id=\"T_8dba2_level0_row13\" class=\"row_heading level0 row13\" >llar</th>\n",
              "      <td id=\"T_8dba2_row13_col0\" class=\"data row13 col0\" >Lasso Least Angle Regression</td>\n",
              "      <td id=\"T_8dba2_row13_col1\" class=\"data row13 col1\" >66.0699</td>\n",
              "      <td id=\"T_8dba2_row13_col2\" class=\"data row13 col2\" >7715.7035</td>\n",
              "      <td id=\"T_8dba2_row13_col3\" class=\"data row13 col3\" >87.8315</td>\n",
              "      <td id=\"T_8dba2_row13_col4\" class=\"data row13 col4\" >0.9269</td>\n",
              "      <td id=\"T_8dba2_row13_col5\" class=\"data row13 col5\" >2.5042</td>\n",
              "      <td id=\"T_8dba2_row13_col6\" class=\"data row13 col6\" >0.5902</td>\n",
              "      <td id=\"T_8dba2_row13_col7\" class=\"data row13 col7\" >0.1020</td>\n",
              "    </tr>\n",
              "    <tr>\n",
              "      <th id=\"T_8dba2_level0_row14\" class=\"row_heading level0 row14\" >en</th>\n",
              "      <td id=\"T_8dba2_row14_col0\" class=\"data row14 col0\" >Elastic Net</td>\n",
              "      <td id=\"T_8dba2_row14_col1\" class=\"data row14 col1\" >66.1753</td>\n",
              "      <td id=\"T_8dba2_row14_col2\" class=\"data row14 col2\" >7753.4307</td>\n",
              "      <td id=\"T_8dba2_row14_col3\" class=\"data row14 col3\" >88.0450</td>\n",
              "      <td id=\"T_8dba2_row14_col4\" class=\"data row14 col4\" >0.9266</td>\n",
              "      <td id=\"T_8dba2_row14_col5\" class=\"data row14 col5\" >2.4909</td>\n",
              "      <td id=\"T_8dba2_row14_col6\" class=\"data row14 col6\" >0.6205</td>\n",
              "      <td id=\"T_8dba2_row14_col7\" class=\"data row14 col7\" >0.2680</td>\n",
              "    </tr>\n",
              "    <tr>\n",
              "      <th id=\"T_8dba2_level0_row15\" class=\"row_heading level0 row15\" >huber</th>\n",
              "      <td id=\"T_8dba2_row15_col0\" class=\"data row15 col0\" >Huber Regressor</td>\n",
              "      <td id=\"T_8dba2_row15_col1\" class=\"data row15 col1\" >54.9193</td>\n",
              "      <td id=\"T_8dba2_row15_col2\" class=\"data row15 col2\" >10019.9503</td>\n",
              "      <td id=\"T_8dba2_row15_col3\" class=\"data row15 col3\" >100.0720</td>\n",
              "      <td id=\"T_8dba2_row15_col4\" class=\"data row15 col4\" >0.9051</td>\n",
              "      <td id=\"T_8dba2_row15_col5\" class=\"data row15 col5\" >0.5157</td>\n",
              "      <td id=\"T_8dba2_row15_col6\" class=\"data row15 col6\" >0.3705</td>\n",
              "      <td id=\"T_8dba2_row15_col7\" class=\"data row15 col7\" >0.6930</td>\n",
              "    </tr>\n",
              "    <tr>\n",
              "      <th id=\"T_8dba2_level0_row16\" class=\"row_heading level0 row16\" >omp</th>\n",
              "      <td id=\"T_8dba2_row16_col0\" class=\"data row16 col0\" >Orthogonal Matching Pursuit</td>\n",
              "      <td id=\"T_8dba2_row16_col1\" class=\"data row16 col1\" >55.6797</td>\n",
              "      <td id=\"T_8dba2_row16_col2\" class=\"data row16 col2\" >10103.1454</td>\n",
              "      <td id=\"T_8dba2_row16_col3\" class=\"data row16 col3\" >100.4869</td>\n",
              "      <td id=\"T_8dba2_row16_col4\" class=\"data row16 col4\" >0.9043</td>\n",
              "      <td id=\"T_8dba2_row16_col5\" class=\"data row16 col5\" >0.8099</td>\n",
              "      <td id=\"T_8dba2_row16_col6\" class=\"data row16 col6\" >0.3724</td>\n",
              "      <td id=\"T_8dba2_row16_col7\" class=\"data row16 col7\" >0.0860</td>\n",
              "    </tr>\n",
              "    <tr>\n",
              "      <th id=\"T_8dba2_level0_row17\" class=\"row_heading level0 row17\" >par</th>\n",
              "      <td id=\"T_8dba2_row17_col0\" class=\"data row17 col0\" >Passive Aggressive Regressor</td>\n",
              "      <td id=\"T_8dba2_row17_col1\" class=\"data row17 col1\" >91.4138</td>\n",
              "      <td id=\"T_8dba2_row17_col2\" class=\"data row17 col2\" >13442.2798</td>\n",
              "      <td id=\"T_8dba2_row17_col3\" class=\"data row17 col3\" >113.1617</td>\n",
              "      <td id=\"T_8dba2_row17_col4\" class=\"data row17 col4\" >0.8718</td>\n",
              "      <td id=\"T_8dba2_row17_col5\" class=\"data row17 col5\" >2.9091</td>\n",
              "      <td id=\"T_8dba2_row17_col6\" class=\"data row17 col6\" >0.7410</td>\n",
              "      <td id=\"T_8dba2_row17_col7\" class=\"data row17 col7\" >0.1620</td>\n",
              "    </tr>\n",
              "    <tr>\n",
              "      <th id=\"T_8dba2_level0_row18\" class=\"row_heading level0 row18\" >dummy</th>\n",
              "      <td id=\"T_8dba2_row18_col0\" class=\"data row18 col0\" >Dummy Regressor</td>\n",
              "      <td id=\"T_8dba2_row18_col1\" class=\"data row18 col1\" >287.3906</td>\n",
              "      <td id=\"T_8dba2_row18_col2\" class=\"data row18 col2\" >105674.0789</td>\n",
              "      <td id=\"T_8dba2_row18_col3\" class=\"data row18 col3\" >325.0556</td>\n",
              "      <td id=\"T_8dba2_row18_col4\" class=\"data row18 col4\" >-0.0006</td>\n",
              "      <td id=\"T_8dba2_row18_col5\" class=\"data row18 col5\" >4.0070</td>\n",
              "      <td id=\"T_8dba2_row18_col6\" class=\"data row18 col6\" >2.3005</td>\n",
              "      <td id=\"T_8dba2_row18_col7\" class=\"data row18 col7\" >0.0900</td>\n",
              "    </tr>\n",
              "  </tbody>\n",
              "</table>\n"
            ]
          },
          "metadata": {}
        },
        {
          "output_type": "display_data",
          "data": {
            "text/plain": [
              "Processing:   0%|          | 0/81 [00:00<?, ?it/s]"
            ],
            "application/vnd.jupyter.widget-view+json": {
              "version_major": 2,
              "version_minor": 0,
              "model_id": "1e8d4c7bee19433592b8197a99599276"
            }
          },
          "metadata": {
            "application/vnd.jupyter.widget-view+json": {
              "colab": {
                "custom_widget_manager": {
                  "url": "https://ssl.gstatic.com/colaboratory-static/widgets/colab-cdn-widget-manager/b3e629b1971e1542/manager.min.js"
                }
              }
            }
          }
        },
        {
          "output_type": "display_data",
          "data": {
            "text/plain": [
              "<IPython.core.display.HTML object>"
            ],
            "text/html": []
          },
          "metadata": {}
        }
      ],
      "source": [
        "best = compare_models()"
      ]
    },
    {
      "cell_type": "code",
      "execution_count": 49,
      "metadata": {
        "id": "icZmXr0hd-iW",
        "colab": {
          "base_uri": "https://localhost:8080/",
          "height": 457,
          "referenced_widgets": [
            "2b3e4393cad54750a6c666cb8e44d612",
            "5bc470fbcf7048fdbbd267ba93f76afa",
            "c07a8ea843e6458889ba8f734ec26d0e",
            "68057922d3a34c6084b79f59976e37ff",
            "e0015b7f6fbe47c5a6f88271771e06f7",
            "da2530648b10481e92a9f1572a39a131",
            "5adae24422224d2d9fd55fc391c9c29b",
            "6c8f1877af6e4d1ba309b64e7c84b8ee",
            "43769ba812444141b56544b0af86dcb5",
            "0579ebd093f941db90bcd9d241a99945",
            "0b3cc0ac248e4a17b6fa80c9566dee39"
          ]
        },
        "outputId": "b4016a8d-1e15-4e9f-9f5e-0f76bd435d52"
      },
      "outputs": [
        {
          "output_type": "display_data",
          "data": {
            "text/plain": [
              "<IPython.core.display.HTML object>"
            ],
            "text/html": []
          },
          "metadata": {}
        },
        {
          "output_type": "display_data",
          "data": {
            "text/plain": [
              "<pandas.io.formats.style.Styler at 0x7fc5ad8e5c30>"
            ],
            "text/html": [
              "<style type=\"text/css\">\n",
              "#T_ac9a6_row10_col0, #T_ac9a6_row10_col1, #T_ac9a6_row10_col2, #T_ac9a6_row10_col3, #T_ac9a6_row10_col4, #T_ac9a6_row10_col5 {\n",
              "  background: yellow;\n",
              "}\n",
              "</style>\n",
              "<table id=\"T_ac9a6\" class=\"dataframe\">\n",
              "  <thead>\n",
              "    <tr>\n",
              "      <th class=\"blank level0\" >&nbsp;</th>\n",
              "      <th id=\"T_ac9a6_level0_col0\" class=\"col_heading level0 col0\" >MAE</th>\n",
              "      <th id=\"T_ac9a6_level0_col1\" class=\"col_heading level0 col1\" >MSE</th>\n",
              "      <th id=\"T_ac9a6_level0_col2\" class=\"col_heading level0 col2\" >RMSE</th>\n",
              "      <th id=\"T_ac9a6_level0_col3\" class=\"col_heading level0 col3\" >R2</th>\n",
              "      <th id=\"T_ac9a6_level0_col4\" class=\"col_heading level0 col4\" >RMSLE</th>\n",
              "      <th id=\"T_ac9a6_level0_col5\" class=\"col_heading level0 col5\" >MAPE</th>\n",
              "    </tr>\n",
              "    <tr>\n",
              "      <th class=\"index_name level0\" >Fold</th>\n",
              "      <th class=\"blank col0\" >&nbsp;</th>\n",
              "      <th class=\"blank col1\" >&nbsp;</th>\n",
              "      <th class=\"blank col2\" >&nbsp;</th>\n",
              "      <th class=\"blank col3\" >&nbsp;</th>\n",
              "      <th class=\"blank col4\" >&nbsp;</th>\n",
              "      <th class=\"blank col5\" >&nbsp;</th>\n",
              "    </tr>\n",
              "  </thead>\n",
              "  <tbody>\n",
              "    <tr>\n",
              "      <th id=\"T_ac9a6_level0_row0\" class=\"row_heading level0 row0\" >0</th>\n",
              "      <td id=\"T_ac9a6_row0_col0\" class=\"data row0 col0\" >1.3471</td>\n",
              "      <td id=\"T_ac9a6_row0_col1\" class=\"data row0 col1\" >7.5154</td>\n",
              "      <td id=\"T_ac9a6_row0_col2\" class=\"data row0 col2\" >2.7414</td>\n",
              "      <td id=\"T_ac9a6_row0_col3\" class=\"data row0 col3\" >0.9999</td>\n",
              "      <td id=\"T_ac9a6_row0_col4\" class=\"data row0 col4\" >0.0263</td>\n",
              "      <td id=\"T_ac9a6_row0_col5\" class=\"data row0 col5\" >0.0152</td>\n",
              "    </tr>\n",
              "    <tr>\n",
              "      <th id=\"T_ac9a6_level0_row1\" class=\"row_heading level0 row1\" >1</th>\n",
              "      <td id=\"T_ac9a6_row1_col0\" class=\"data row1 col0\" >1.3609</td>\n",
              "      <td id=\"T_ac9a6_row1_col1\" class=\"data row1 col1\" >7.0260</td>\n",
              "      <td id=\"T_ac9a6_row1_col2\" class=\"data row1 col2\" >2.6507</td>\n",
              "      <td id=\"T_ac9a6_row1_col3\" class=\"data row1 col3\" >0.9999</td>\n",
              "      <td id=\"T_ac9a6_row1_col4\" class=\"data row1 col4\" >0.0292</td>\n",
              "      <td id=\"T_ac9a6_row1_col5\" class=\"data row1 col5\" >0.0148</td>\n",
              "    </tr>\n",
              "    <tr>\n",
              "      <th id=\"T_ac9a6_level0_row2\" class=\"row_heading level0 row2\" >2</th>\n",
              "      <td id=\"T_ac9a6_row2_col0\" class=\"data row2 col0\" >1.3199</td>\n",
              "      <td id=\"T_ac9a6_row2_col1\" class=\"data row2 col1\" >7.4966</td>\n",
              "      <td id=\"T_ac9a6_row2_col2\" class=\"data row2 col2\" >2.7380</td>\n",
              "      <td id=\"T_ac9a6_row2_col3\" class=\"data row2 col3\" >0.9999</td>\n",
              "      <td id=\"T_ac9a6_row2_col4\" class=\"data row2 col4\" >0.0315</td>\n",
              "      <td id=\"T_ac9a6_row2_col5\" class=\"data row2 col5\" >0.0153</td>\n",
              "    </tr>\n",
              "    <tr>\n",
              "      <th id=\"T_ac9a6_level0_row3\" class=\"row_heading level0 row3\" >3</th>\n",
              "      <td id=\"T_ac9a6_row3_col0\" class=\"data row3 col0\" >1.3467</td>\n",
              "      <td id=\"T_ac9a6_row3_col1\" class=\"data row3 col1\" >6.7470</td>\n",
              "      <td id=\"T_ac9a6_row3_col2\" class=\"data row3 col2\" >2.5975</td>\n",
              "      <td id=\"T_ac9a6_row3_col3\" class=\"data row3 col3\" >0.9999</td>\n",
              "      <td id=\"T_ac9a6_row3_col4\" class=\"data row3 col4\" >0.0252</td>\n",
              "      <td id=\"T_ac9a6_row3_col5\" class=\"data row3 col5\" >0.0141</td>\n",
              "    </tr>\n",
              "    <tr>\n",
              "      <th id=\"T_ac9a6_level0_row4\" class=\"row_heading level0 row4\" >4</th>\n",
              "      <td id=\"T_ac9a6_row4_col0\" class=\"data row4 col0\" >1.4298</td>\n",
              "      <td id=\"T_ac9a6_row4_col1\" class=\"data row4 col1\" >8.3414</td>\n",
              "      <td id=\"T_ac9a6_row4_col2\" class=\"data row4 col2\" >2.8881</td>\n",
              "      <td id=\"T_ac9a6_row4_col3\" class=\"data row4 col3\" >0.9999</td>\n",
              "      <td id=\"T_ac9a6_row4_col4\" class=\"data row4 col4\" >0.0250</td>\n",
              "      <td id=\"T_ac9a6_row4_col5\" class=\"data row4 col5\" >0.0141</td>\n",
              "    </tr>\n",
              "    <tr>\n",
              "      <th id=\"T_ac9a6_level0_row5\" class=\"row_heading level0 row5\" >5</th>\n",
              "      <td id=\"T_ac9a6_row5_col0\" class=\"data row5 col0\" >1.3584</td>\n",
              "      <td id=\"T_ac9a6_row5_col1\" class=\"data row5 col1\" >7.1350</td>\n",
              "      <td id=\"T_ac9a6_row5_col2\" class=\"data row5 col2\" >2.6711</td>\n",
              "      <td id=\"T_ac9a6_row5_col3\" class=\"data row5 col3\" >0.9999</td>\n",
              "      <td id=\"T_ac9a6_row5_col4\" class=\"data row5 col4\" >0.0288</td>\n",
              "      <td id=\"T_ac9a6_row5_col5\" class=\"data row5 col5\" >0.0146</td>\n",
              "    </tr>\n",
              "    <tr>\n",
              "      <th id=\"T_ac9a6_level0_row6\" class=\"row_heading level0 row6\" >6</th>\n",
              "      <td id=\"T_ac9a6_row6_col0\" class=\"data row6 col0\" >1.3970</td>\n",
              "      <td id=\"T_ac9a6_row6_col1\" class=\"data row6 col1\" >7.5725</td>\n",
              "      <td id=\"T_ac9a6_row6_col2\" class=\"data row6 col2\" >2.7518</td>\n",
              "      <td id=\"T_ac9a6_row6_col3\" class=\"data row6 col3\" >0.9999</td>\n",
              "      <td id=\"T_ac9a6_row6_col4\" class=\"data row6 col4\" >0.0304</td>\n",
              "      <td id=\"T_ac9a6_row6_col5\" class=\"data row6 col5\" >0.0173</td>\n",
              "    </tr>\n",
              "    <tr>\n",
              "      <th id=\"T_ac9a6_level0_row7\" class=\"row_heading level0 row7\" >7</th>\n",
              "      <td id=\"T_ac9a6_row7_col0\" class=\"data row7 col0\" >1.3806</td>\n",
              "      <td id=\"T_ac9a6_row7_col1\" class=\"data row7 col1\" >7.0601</td>\n",
              "      <td id=\"T_ac9a6_row7_col2\" class=\"data row7 col2\" >2.6571</td>\n",
              "      <td id=\"T_ac9a6_row7_col3\" class=\"data row7 col3\" >0.9999</td>\n",
              "      <td id=\"T_ac9a6_row7_col4\" class=\"data row7 col4\" >0.0317</td>\n",
              "      <td id=\"T_ac9a6_row7_col5\" class=\"data row7 col5\" >0.0144</td>\n",
              "    </tr>\n",
              "    <tr>\n",
              "      <th id=\"T_ac9a6_level0_row8\" class=\"row_heading level0 row8\" >8</th>\n",
              "      <td id=\"T_ac9a6_row8_col0\" class=\"data row8 col0\" >1.4021</td>\n",
              "      <td id=\"T_ac9a6_row8_col1\" class=\"data row8 col1\" >7.6401</td>\n",
              "      <td id=\"T_ac9a6_row8_col2\" class=\"data row8 col2\" >2.7641</td>\n",
              "      <td id=\"T_ac9a6_row8_col3\" class=\"data row8 col3\" >0.9999</td>\n",
              "      <td id=\"T_ac9a6_row8_col4\" class=\"data row8 col4\" >0.0343</td>\n",
              "      <td id=\"T_ac9a6_row8_col5\" class=\"data row8 col5\" >0.0164</td>\n",
              "    </tr>\n",
              "    <tr>\n",
              "      <th id=\"T_ac9a6_level0_row9\" class=\"row_heading level0 row9\" >9</th>\n",
              "      <td id=\"T_ac9a6_row9_col0\" class=\"data row9 col0\" >1.3268</td>\n",
              "      <td id=\"T_ac9a6_row9_col1\" class=\"data row9 col1\" >6.6820</td>\n",
              "      <td id=\"T_ac9a6_row9_col2\" class=\"data row9 col2\" >2.5850</td>\n",
              "      <td id=\"T_ac9a6_row9_col3\" class=\"data row9 col3\" >0.9999</td>\n",
              "      <td id=\"T_ac9a6_row9_col4\" class=\"data row9 col4\" >0.0259</td>\n",
              "      <td id=\"T_ac9a6_row9_col5\" class=\"data row9 col5\" >0.0150</td>\n",
              "    </tr>\n",
              "    <tr>\n",
              "      <th id=\"T_ac9a6_level0_row10\" class=\"row_heading level0 row10\" >Mean</th>\n",
              "      <td id=\"T_ac9a6_row10_col0\" class=\"data row10 col0\" >1.3669</td>\n",
              "      <td id=\"T_ac9a6_row10_col1\" class=\"data row10 col1\" >7.3216</td>\n",
              "      <td id=\"T_ac9a6_row10_col2\" class=\"data row10 col2\" >2.7045</td>\n",
              "      <td id=\"T_ac9a6_row10_col3\" class=\"data row10 col3\" >0.9999</td>\n",
              "      <td id=\"T_ac9a6_row10_col4\" class=\"data row10 col4\" >0.0288</td>\n",
              "      <td id=\"T_ac9a6_row10_col5\" class=\"data row10 col5\" >0.0151</td>\n",
              "    </tr>\n",
              "    <tr>\n",
              "      <th id=\"T_ac9a6_level0_row11\" class=\"row_heading level0 row11\" >Std</th>\n",
              "      <td id=\"T_ac9a6_row11_col0\" class=\"data row11 col0\" >0.0332</td>\n",
              "      <td id=\"T_ac9a6_row11_col1\" class=\"data row11 col1\" >0.4693</td>\n",
              "      <td id=\"T_ac9a6_row11_col2\" class=\"data row11 col2\" >0.0860</td>\n",
              "      <td id=\"T_ac9a6_row11_col3\" class=\"data row11 col3\" >0.0000</td>\n",
              "      <td id=\"T_ac9a6_row11_col4\" class=\"data row11 col4\" >0.0030</td>\n",
              "      <td id=\"T_ac9a6_row11_col5\" class=\"data row11 col5\" >0.0009</td>\n",
              "    </tr>\n",
              "  </tbody>\n",
              "</table>\n"
            ]
          },
          "metadata": {}
        },
        {
          "output_type": "display_data",
          "data": {
            "text/plain": [
              "Processing:   0%|          | 0/4 [00:00<?, ?it/s]"
            ],
            "application/vnd.jupyter.widget-view+json": {
              "version_major": 2,
              "version_minor": 0,
              "model_id": "2b3e4393cad54750a6c666cb8e44d612"
            }
          },
          "metadata": {
            "application/vnd.jupyter.widget-view+json": {
              "colab": {
                "custom_widget_manager": {
                  "url": "https://ssl.gstatic.com/colaboratory-static/widgets/colab-cdn-widget-manager/b3e629b1971e1542/manager.min.js"
                }
              }
            }
          }
        },
        {
          "output_type": "display_data",
          "data": {
            "text/plain": [
              "<IPython.core.display.HTML object>"
            ],
            "text/html": []
          },
          "metadata": {}
        }
      ],
      "source": [
        "et = create_model('et')"
      ]
    },
    {
      "cell_type": "code",
      "source": [
        "plot_model(et)"
      ],
      "metadata": {
        "colab": {
          "base_uri": "https://localhost:8080/",
          "height": 524
        },
        "id": "WOSkuL5Clhy_",
        "outputId": "b866e019-ec47-4f56-e58c-6b89037b3741"
      },
      "execution_count": 51,
      "outputs": [
        {
          "output_type": "display_data",
          "data": {
            "text/plain": [
              "<IPython.core.display.HTML object>"
            ],
            "text/html": []
          },
          "metadata": {}
        },
        {
          "output_type": "display_data",
          "data": {
            "text/plain": [
              "<Figure size 800x550 with 2 Axes>"
            ],
            "image/png": "[encoded data removed]"
          },
          "metadata": {}
        }
      ]
    },
    {
      "cell_type": "code",
      "source": [
        "plot_model(et, plot = 'error')"
      ],
      "metadata": {
        "colab": {
          "base_uri": "https://localhost:8080/",
          "height": 526
        },
        "id": "0VPHZx_elrho",
        "outputId": "bb4517ae-778e-42a3-c8e6-06cb2c08ce69"
      },
      "execution_count": 52,
      "outputs": [
        {
          "output_type": "display_data",
          "data": {
            "text/plain": [
              "<IPython.core.display.HTML object>"
            ],
            "text/html": []
          },
          "metadata": {}
        },
        {
          "output_type": "display_data",
          "data": {
            "text/plain": [
              "<Figure size 800x550 with 1 Axes>"
            ],
            "image/png": "[encoded data removed]"
          },
          "metadata": {}
        }
      ]
    },
    {
      "cell_type": "code",
      "source": [
        "plot_model(et, plot='feature')"
      ],
      "metadata": {
        "colab": {
          "base_uri": "https://localhost:8080/",
          "height": 485
        },
        "id": "FdnxCcCLmJDx",
        "outputId": "fa1b6f23-46e8-45de-ed12-5ec04fdd47b9"
      },
      "execution_count": 53,
      "outputs": [
        {
          "output_type": "display_data",
          "data": {
            "text/plain": [
              "<IPython.core.display.HTML object>"
            ],
            "text/html": []
          },
          "metadata": {}
        },
        {
          "output_type": "display_data",
          "data": {
            "text/plain": [
              "<Figure size 800x500 with 1 Axes>"
            ],
            "image/png": "[encoded data removed]"
          },
          "metadata": {}
        }
      ]
    },
    {
      "cell_type": "code",
      "source": [],
      "metadata": {
        "id": "auV-TWlEmS_t"
      },
      "execution_count": 57,
      "outputs": []
    },
    {
      "cell_type": "code",
      "source": [],
      "metadata": {
        "id": "tTjwas41nXmR"
      },
      "execution_count": null,
      "outputs": []
    },
    {
      "cell_type": "code",
      "source": [],
      "metadata": {
        "id": "EMfWqdKnm70K"
      },
      "execution_count": 57,
      "outputs": []
    },
    {
      "cell_type": "code",
      "source": [],
      "metadata": {
        "id": "yLS3QHfSnHf9"
      },
      "execution_count": null,
      "outputs": []
    }
  ],
  "metadata": {
    "colab": {
      "provenance": []
    },
    "kernelspec": {
      "display_name": "Python 3 (ipykernel)",
      "language": "python",
      "name": "python3"
    },
    "language_info": {
      "codemirror_mode": {
        "name": "ipython",
        "version": 3
      },
      "file_extension": ".py",
      "mimetype": "text/x-python",
      "name": "python",
      "nbconvert_exporter": "python",
      "pygments_lexer": "ipython3",
      "version": "3.9.12"
    },
    "widgets": {
      "application/vnd.jupyter.widget-state+json": {
        "1e8d4c7bee19433592b8197a99599276": {
          "model_module": "@jupyter-widgets/controls",
          "model_name": "HBoxModel",
          "model_module_version": "1.5.0",
          "state": {
            "_dom_classes": [],
            "_model_module": "@jupyter-widgets/controls",
            "_model_module_version": "1.5.0",
            "_model_name": "HBoxModel",
            "_view_count": null,
            "_view_module": "@jupyter-widgets/controls",
            "_view_module_version": "1.5.0",
            "_view_name": "HBoxView",
            "box_style": "",
            "children": [
              "IPY_MODEL_e36e3cfc1d76462da5d1f2014ff2f386",
              "IPY_MODEL_b17b7c104c6f4d4ab9c8152a18339a76",
              "IPY_MODEL_79d9a7b022094cad8c6a3919cde44f47"
            ],
            "layout": "IPY_MODEL_1ae6333059124e12952655029454f5ec"
          }
        },
        "e36e3cfc1d76462da5d1f2014ff2f386": {
          "model_module": "@jupyter-widgets/controls",
          "model_name": "HTMLModel",
          "model_module_version": "1.5.0",
          "state": {
            "_dom_classes": [],
            "_model_module": "@jupyter-widgets/controls",
            "_model_module_version": "1.5.0",
            "_model_name": "HTMLModel",
            "_view_count": null,
            "_view_module": "@jupyter-widgets/controls",
            "_view_module_version": "1.5.0",
            "_view_name": "HTMLView",
            "description": "",
            "description_tooltip": null,
            "layout": "IPY_MODEL_f07055863e7248cfa1a0d29e9fb44c33",
            "placeholder": "​",
            "style": "IPY_MODEL_66dbee15b2e649e7aefbe607b215dfa0",
            "value": "Processing: 100%"
          }
        },
        "b17b7c104c6f4d4ab9c8152a18339a76": {
          "model_module": "@jupyter-widgets/controls",
          "model_name": "FloatProgressModel",
          "model_module_version": "1.5.0",
          "state": {
            "_dom_classes": [],
            "_model_module": "@jupyter-widgets/controls",
            "_model_module_version": "1.5.0",
            "_model_name": "FloatProgressModel",
            "_view_count": null,
            "_view_module": "@jupyter-widgets/controls",
            "_view_module_version": "1.5.0",
            "_view_name": "ProgressView",
            "bar_style": "",
            "description": "",
            "description_tooltip": null,
            "layout": "IPY_MODEL_98364fae5fda4f5cb7b94b71916dcced",
            "max": 81,
            "min": 0,
            "orientation": "horizontal",
            "style": "IPY_MODEL_b727d9aaadd54cb393f33ff6dff96c7d",
            "value": 81
          }
        },
        "79d9a7b022094cad8c6a3919cde44f47": {
          "model_module": "@jupyter-widgets/controls",
          "model_name": "HTMLModel",
          "model_module_version": "1.5.0",
          "state": {
            "_dom_classes": [],
            "_model_module": "@jupyter-widgets/controls",
            "_model_module_version": "1.5.0",
            "_model_name": "HTMLModel",
            "_view_count": null,
            "_view_module": "@jupyter-widgets/controls",
            "_view_module_version": "1.5.0",
            "_view_name": "HTMLView",
            "description": "",
            "description_tooltip": null,
            "layout": "IPY_MODEL_08016d19db9e48aebd2b24d9a8a5fddf",
            "placeholder": "​",
            "style": "IPY_MODEL_b5385013f5df429c9ab9741c295a1477",
            "value": " 81/81 [06:56&lt;00:00,  4.52s/it]"
          }
        },
        "1ae6333059124e12952655029454f5ec": {
          "model_module": "@jupyter-widgets/base",
          "model_name": "LayoutModel",
          "model_module_version": "1.2.0",
          "state": {
            "_model_module": "@jupyter-widgets/base",
            "_model_module_version": "1.2.0",
            "_model_name": "LayoutModel",
            "_view_count": null,
            "_view_module": "@jupyter-widgets/base",
            "_view_module_version": "1.2.0",
            "_view_name": "LayoutView",
            "align_content": null,
            "align_items": null,
            "align_self": null,
            "border": null,
            "bottom": null,
            "display": null,
            "flex": null,
            "flex_flow": null,
            "grid_area": null,
            "grid_auto_columns": null,
            "grid_auto_flow": null,
            "grid_auto_rows": null,
            "grid_column": null,
            "grid_gap": null,
            "grid_row": null,
            "grid_template_areas": null,
            "grid_template_columns": null,
            "grid_template_rows": null,
            "height": null,
            "justify_content": null,
            "justify_items": null,
            "left": null,
            "margin": null,
            "max_height": null,
            "max_width": null,
            "min_height": null,
            "min_width": null,
            "object_fit": null,
            "object_position": null,
            "order": null,
            "overflow": null,
            "overflow_x": null,
            "overflow_y": null,
            "padding": null,
            "right": null,
            "top": null,
            "visibility": "hidden",
            "width": null
          }
        },
        "f07055863e7248cfa1a0d29e9fb44c33": {
          "model_module": "@jupyter-widgets/base",
          "model_name": "LayoutModel",
          "model_module_version": "1.2.0",
          "state": {
            "_model_module": "@jupyter-widgets/base",
            "_model_module_version": "1.2.0",
            "_model_name": "LayoutModel",
            "_view_count": null,
            "_view_module": "@jupyter-widgets/base",
            "_view_module_version": "1.2.0",
            "_view_name": "LayoutView",
            "align_content": null,
            "align_items": null,
            "align_self": null,
            "border": null,
            "bottom": null,
            "display": null,
            "flex": null,
            "flex_flow": null,
            "grid_area": null,
            "grid_auto_columns": null,
            "grid_auto_flow": null,
            "grid_auto_rows": null,
            "grid_column": null,
            "grid_gap": null,
            "grid_row": null,
            "grid_template_areas": null,
            "grid_template_columns": null,
            "grid_template_rows": null,
            "height": null,
            "justify_content": null,
            "justify_items": null,
            "left": null,
            "margin": null,
            "max_height": null,
            "max_width": null,
            "min_height": null,
            "min_width": null,
            "object_fit": null,
            "object_position": null,
            "order": null,
            "overflow": null,
            "overflow_x": null,
            "overflow_y": null,
            "padding": null,
            "right": null,
            "top": null,
            "visibility": null,
            "width": null
          }
        },
        "66dbee15b2e649e7aefbe607b215dfa0": {
          "model_module": "@jupyter-widgets/controls",
          "model_name": "DescriptionStyleModel",
          "model_module_version": "1.5.0",
          "state": {
            "_model_module": "@jupyter-widgets/controls",
            "_model_module_version": "1.5.0",
            "_model_name": "DescriptionStyleModel",
            "_view_count": null,
            "_view_module": "@jupyter-widgets/base",
            "_view_module_version": "1.2.0",
            "_view_name": "StyleView",
            "description_width": ""
          }
        },
        "98364fae5fda4f5cb7b94b71916dcced": {
          "model_module": "@jupyter-widgets/base",
          "model_name": "LayoutModel",
          "model_module_version": "1.2.0",
          "state": {
            "_model_module": "@jupyter-widgets/base",
            "_model_module_version": "1.2.0",
            "_model_name": "LayoutModel",
            "_view_count": null,
            "_view_module": "@jupyter-widgets/base",
            "_view_module_version": "1.2.0",
            "_view_name": "LayoutView",
            "align_content": null,
            "align_items": null,
            "align_self": null,
            "border": null,
            "bottom": null,
            "display": null,
            "flex": null,
            "flex_flow": null,
            "grid_area": null,
            "grid_auto_columns": null,
            "grid_auto_flow": null,
            "grid_auto_rows": null,
            "grid_column": null,
            "grid_gap": null,
            "grid_row": null,
            "grid_template_areas": null,
            "grid_template_columns": null,
            "grid_template_rows": null,
            "height": null,
            "justify_content": null,
            "justify_items": null,
            "left": null,
            "margin": null,
            "max_height": null,
            "max_width": null,
            "min_height": null,
            "min_width": null,
            "object_fit": null,
            "object_position": null,
            "order": null,
            "overflow": null,
            "overflow_x": null,
            "overflow_y": null,
            "padding": null,
            "right": null,
            "top": null,
            "visibility": null,
            "width": null
          }
        },
        "b727d9aaadd54cb393f33ff6dff96c7d": {
          "model_module": "@jupyter-widgets/controls",
          "model_name": "ProgressStyleModel",
          "model_module_version": "1.5.0",
          "state": {
            "_model_module": "@jupyter-widgets/controls",
            "_model_module_version": "1.5.0",
            "_model_name": "ProgressStyleModel",
            "_view_count": null,
            "_view_module": "@jupyter-widgets/base",
            "_view_module_version": "1.2.0",
            "_view_name": "StyleView",
            "bar_color": null,
            "description_width": ""
          }
        },
        "08016d19db9e48aebd2b24d9a8a5fddf": {
          "model_module": "@jupyter-widgets/base",
          "model_name": "LayoutModel",
          "model_module_version": "1.2.0",
          "state": {
            "_model_module": "@jupyter-widgets/base",
            "_model_module_version": "1.2.0",
            "_model_name": "LayoutModel",
            "_view_count": null,
            "_view_module": "@jupyter-widgets/base",
            "_view_module_version": "1.2.0",
            "_view_name": "LayoutView",
            "align_content": null,
            "align_items": null,
            "align_self": null,
            "border": null,
            "bottom": null,
            "display": null,
            "flex": null,
            "flex_flow": null,
            "grid_area": null,
            "grid_auto_columns": null,
            "grid_auto_flow": null,
            "grid_auto_rows": null,
            "grid_column": null,
            "grid_gap": null,
            "grid_row": null,
            "grid_template_areas": null,
            "grid_template_columns": null,
            "grid_template_rows": null,
            "height": null,
            "justify_content": null,
            "justify_items": null,
            "left": null,
            "margin": null,
            "max_height": null,
            "max_width": null,
            "min_height": null,
            "min_width": null,
            "object_fit": null,
            "object_position": null,
            "order": null,
            "overflow": null,
            "overflow_x": null,
            "overflow_y": null,
            "padding": null,
            "right": null,
            "top": null,
            "visibility": null,
            "width": null
          }
        },
        "b5385013f5df429c9ab9741c295a1477": {
          "model_module": "@jupyter-widgets/controls",
          "model_name": "DescriptionStyleModel",
          "model_module_version": "1.5.0",
          "state": {
            "_model_module": "@jupyter-widgets/controls",
            "_model_module_version": "1.5.0",
            "_model_name": "DescriptionStyleModel",
            "_view_count": null,
            "_view_module": "@jupyter-widgets/base",
            "_view_module_version": "1.2.0",
            "_view_name": "StyleView",
            "description_width": ""
          }
        },
        "2b3e4393cad54750a6c666cb8e44d612": {
          "model_module": "@jupyter-widgets/controls",
          "model_name": "HBoxModel",
          "model_module_version": "1.5.0",
          "state": {
            "_dom_classes": [],
            "_model_module": "@jupyter-widgets/controls",
            "_model_module_version": "1.5.0",
            "_model_name": "HBoxModel",
            "_view_count": null,
            "_view_module": "@jupyter-widgets/controls",
            "_view_module_version": "1.5.0",
            "_view_name": "HBoxView",
            "box_style": "",
            "children": [
              "IPY_MODEL_5bc470fbcf7048fdbbd267ba93f76afa",
              "IPY_MODEL_c07a8ea843e6458889ba8f734ec26d0e",
              "IPY_MODEL_68057922d3a34c6084b79f59976e37ff"
            ],
            "layout": "IPY_MODEL_e0015b7f6fbe47c5a6f88271771e06f7"
          }
        },
        "5bc470fbcf7048fdbbd267ba93f76afa": {
          "model_module": "@jupyter-widgets/controls",
          "model_name": "HTMLModel",
          "model_module_version": "1.5.0",
          "state": {
            "_dom_classes": [],
            "_model_module": "@jupyter-widgets/controls",
            "_model_module_version": "1.5.0",
            "_model_name": "HTMLModel",
            "_view_count": null,
            "_view_module": "@jupyter-widgets/controls",
            "_view_module_version": "1.5.0",
            "_view_name": "HTMLView",
            "description": "",
            "description_tooltip": null,
            "layout": "IPY_MODEL_da2530648b10481e92a9f1572a39a131",
            "placeholder": "​",
            "style": "IPY_MODEL_5adae24422224d2d9fd55fc391c9c29b",
            "value": "Processing: 100%"
          }
        },
        "c07a8ea843e6458889ba8f734ec26d0e": {
          "model_module": "@jupyter-widgets/controls",
          "model_name": "FloatProgressModel",
          "model_module_version": "1.5.0",
          "state": {
            "_dom_classes": [],
            "_model_module": "@jupyter-widgets/controls",
            "_model_module_version": "1.5.0",
            "_model_name": "FloatProgressModel",
            "_view_count": null,
            "_view_module": "@jupyter-widgets/controls",
            "_view_module_version": "1.5.0",
            "_view_name": "ProgressView",
            "bar_style": "",
            "description": "",
            "description_tooltip": null,
            "layout": "IPY_MODEL_6c8f1877af6e4d1ba309b64e7c84b8ee",
            "max": 4,
            "min": 0,
            "orientation": "horizontal",
            "style": "IPY_MODEL_43769ba812444141b56544b0af86dcb5",
            "value": 4
          }
        },
        "68057922d3a34c6084b79f59976e37ff": {
          "model_module": "@jupyter-widgets/controls",
          "model_name": "HTMLModel",
          "model_module_version": "1.5.0",
          "state": {
            "_dom_classes": [],
            "_model_module": "@jupyter-widgets/controls",
            "_model_module_version": "1.5.0",
            "_model_name": "HTMLModel",
            "_view_count": null,
            "_view_module": "@jupyter-widgets/controls",
            "_view_module_version": "1.5.0",
            "_view_name": "HTMLView",
            "description": "",
            "description_tooltip": null,
            "layout": "IPY_MODEL_0579ebd093f941db90bcd9d241a99945",
            "placeholder": "​",
            "style": "IPY_MODEL_0b3cc0ac248e4a17b6fa80c9566dee39",
            "value": " 4/4 [00:16&lt;00:00,  4.47s/it]"
          }
        },
        "e0015b7f6fbe47c5a6f88271771e06f7": {
          "model_module": "@jupyter-widgets/base",
          "model_name": "LayoutModel",
          "model_module_version": "1.2.0",
          "state": {
            "_model_module": "@jupyter-widgets/base",
            "_model_module_version": "1.2.0",
            "_model_name": "LayoutModel",
            "_view_count": null,
            "_view_module": "@jupyter-widgets/base",
            "_view_module_version": "1.2.0",
            "_view_name": "LayoutView",
            "align_content": null,
            "align_items": null,
            "align_self": null,
            "border": null,
            "bottom": null,
            "display": null,
            "flex": null,
            "flex_flow": null,
            "grid_area": null,
            "grid_auto_columns": null,
            "grid_auto_flow": null,
            "grid_auto_rows": null,
            "grid_column": null,
            "grid_gap": null,
            "grid_row": null,
            "grid_template_areas": null,
            "grid_template_columns": null,
            "grid_template_rows": null,
            "height": null,
            "justify_content": null,
            "justify_items": null,
            "left": null,
            "margin": null,
            "max_height": null,
            "max_width": null,
            "min_height": null,
            "min_width": null,
            "object_fit": null,
            "object_position": null,
            "order": null,
            "overflow": null,
            "overflow_x": null,
            "overflow_y": null,
            "padding": null,
            "right": null,
            "top": null,
            "visibility": "hidden",
            "width": null
          }
        },
        "da2530648b10481e92a9f1572a39a131": {
          "model_module": "@jupyter-widgets/base",
          "model_name": "LayoutModel",
          "model_module_version": "1.2.0",
          "state": {
            "_model_module": "@jupyter-widgets/base",
            "_model_module_version": "1.2.0",
            "_model_name": "LayoutModel",
            "_view_count": null,
            "_view_module": "@jupyter-widgets/base",
            "_view_module_version": "1.2.0",
            "_view_name": "LayoutView",
            "align_content": null,
            "align_items": null,
            "align_self": null,
            "border": null,
            "bottom": null,
            "display": null,
            "flex": null,
            "flex_flow": null,
            "grid_area": null,
            "grid_auto_columns": null,
            "grid_auto_flow": null,
            "grid_auto_rows": null,
            "grid_column": null,
            "grid_gap": null,
            "grid_row": null,
            "grid_template_areas": null,
            "grid_template_columns": null,
            "grid_template_rows": null,
            "height": null,
            "justify_content": null,
            "justify_items": null,
            "left": null,
            "margin": null,
            "max_height": null,
            "max_width": null,
            "min_height": null,
            "min_width": null,
            "object_fit": null,
            "object_position": null,
            "order": null,
            "overflow": null,
            "overflow_x": null,
            "overflow_y": null,
            "padding": null,
            "right": null,
            "top": null,
            "visibility": null,
            "width": null
          }
        },
        "5adae24422224d2d9fd55fc391c9c29b": {
          "model_module": "@jupyter-widgets/controls",
          "model_name": "DescriptionStyleModel",
          "model_module_version": "1.5.0",
          "state": {
            "_model_module": "@jupyter-widgets/controls",
            "_model_module_version": "1.5.0",
            "_model_name": "DescriptionStyleModel",
            "_view_count": null,
            "_view_module": "@jupyter-widgets/base",
            "_view_module_version": "1.2.0",
            "_view_name": "StyleView",
            "description_width": ""
          }
        },
        "6c8f1877af6e4d1ba309b64e7c84b8ee": {
          "model_module": "@jupyter-widgets/base",
          "model_name": "LayoutModel",
          "model_module_version": "1.2.0",
          "state": {
            "_model_module": "@jupyter-widgets/base",
            "_model_module_version": "1.2.0",
            "_model_name": "LayoutModel",
            "_view_count": null,
            "_view_module": "@jupyter-widgets/base",
            "_view_module_version": "1.2.0",
            "_view_name": "LayoutView",
            "align_content": null,
            "align_items": null,
            "align_self": null,
            "border": null,
            "bottom": null,
            "display": null,
            "flex": null,
            "flex_flow": null,
            "grid_area": null,
            "grid_auto_columns": null,
            "grid_auto_flow": null,
            "grid_auto_rows": null,
            "grid_column": null,
            "grid_gap": null,
            "grid_row": null,
            "grid_template_areas": null,
            "grid_template_columns": null,
            "grid_template_rows": null,
            "height": null,
            "justify_content": null,
            "justify_items": null,
            "left": null,
            "margin": null,
            "max_height": null,
            "max_width": null,
            "min_height": null,
            "min_width": null,
            "object_fit": null,
            "object_position": null,
            "order": null,
            "overflow": null,
            "overflow_x": null,
            "overflow_y": null,
            "padding": null,
            "right": null,
            "top": null,
            "visibility": null,
            "width": null
          }
        },
        "43769ba812444141b56544b0af86dcb5": {
          "model_module": "@jupyter-widgets/controls",
          "model_name": "ProgressStyleModel",
          "model_module_version": "1.5.0",
          "state": {
            "_model_module": "@jupyter-widgets/controls",
            "_model_module_version": "1.5.0",
            "_model_name": "ProgressStyleModel",
            "_view_count": null,
            "_view_module": "@jupyter-widgets/base",
            "_view_module_version": "1.2.0",
            "_view_name": "StyleView",
            "bar_color": null,
            "description_width": ""
          }
        },
        "0579ebd093f941db90bcd9d241a99945": {
          "model_module": "@jupyter-widgets/base",
          "model_name": "LayoutModel",
          "model_module_version": "1.2.0",
          "state": {
            "_model_module": "@jupyter-widgets/base",
            "_model_module_version": "1.2.0",
            "_model_name": "LayoutModel",
            "_view_count": null,
            "_view_module": "@jupyter-widgets/base",
            "_view_module_version": "1.2.0",
            "_view_name": "LayoutView",
            "align_content": null,
            "align_items": null,
            "align_self": null,
            "border": null,
            "bottom": null,
            "display": null,
            "flex": null,
            "flex_flow": null,
            "grid_area": null,
            "grid_auto_columns": null,
            "grid_auto_flow": null,
            "grid_auto_rows": null,
            "grid_column": null,
            "grid_gap": null,
            "grid_row": null,
            "grid_template_areas": null,
            "grid_template_columns": null,
            "grid_template_rows": null,
            "height": null,
            "justify_content": null,
            "justify_items": null,
            "left": null,
            "margin": null,
            "max_height": null,
            "max_width": null,
            "min_height": null,
            "min_width": null,
            "object_fit": null,
            "object_position": null,
            "order": null,
            "overflow": null,
            "overflow_x": null,
            "overflow_y": null,
            "padding": null,
            "right": null,
            "top": null,
            "visibility": null,
            "width": null
          }
        },
        "0b3cc0ac248e4a17b6fa80c9566dee39": {
          "model_module": "@jupyter-widgets/controls",
          "model_name": "DescriptionStyleModel",
          "model_module_version": "1.5.0",
          "state": {
            "_model_module": "@jupyter-widgets/controls",
            "_model_module_version": "1.5.0",
            "_model_name": "DescriptionStyleModel",
            "_view_count": null,
            "_view_module": "@jupyter-widgets/base",
            "_view_module_version": "1.2.0",
            "_view_name": "StyleView",
            "description_width": ""
          }
        }
      }
    }
  },
  "nbformat": 4,
  "nbformat_minor": 0
}